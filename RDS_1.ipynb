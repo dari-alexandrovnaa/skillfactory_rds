{
 "cells": [
  {
   "cell_type": "code",
   "execution_count": 76,
   "metadata": {},
   "outputs": [
    {
     "data": {
      "text/plain": [
       "'Нам дан список текстов. Нужно выбрать тексты, в которых есть слово миллионер.\\n\\nВариант 1\\nМы можем написать простой цикл и выбрать нужный текст:\\n\\nnew_text = []\\nfor text in data:\\n    if \"миллионер\" in text:\\n        new_text.append(text)\\n\\nВариант 2\\nПримерно то же самое, только компактно:\\n\\ndata[data.map(lambda x: True if \"миллионер\" in x else False)]\\n\\nВариант 3\\nВоспользоваться готовым методом в самом pandas:\\n\\ndata[data.str.contains(\"миллионер\")]'"
      ]
     },
     "execution_count": 76,
     "metadata": {},
     "output_type": "execute_result"
    }
   ],
   "source": [
    "'''Нам дан список текстов. Нужно выбрать тексты, в которых есть слово миллионер.\n",
    "\n",
    "Вариант 1\n",
    "Мы можем написать простой цикл и выбрать нужный текст:\n",
    "\n",
    "new_text = []\n",
    "for text in data:\n",
    "    if \"миллионер\" in text:\n",
    "        new_text.append(text)\n",
    "\n",
    "Вариант 2\n",
    "Примерно то же самое, только компактно:\n",
    "\n",
    "data[data.map(lambda x: True if \"миллионер\" in x else False)]\n",
    "\n",
    "Вариант 3\n",
    "Воспользоваться готовым методом в самом pandas:\n",
    "\n",
    "data[data.str.contains(\"миллионер\")]'''"
   ]
  },
  {
   "cell_type": "code",
   "execution_count": 77,
   "metadata": {},
   "outputs": [
    {
     "data": {
      "text/html": [
       "<div>\n",
       "<style scoped>\n",
       "    .dataframe tbody tr th:only-of-type {\n",
       "        vertical-align: middle;\n",
       "    }\n",
       "\n",
       "    .dataframe tbody tr th {\n",
       "        vertical-align: top;\n",
       "    }\n",
       "\n",
       "    .dataframe thead th {\n",
       "        text-align: right;\n",
       "    }\n",
       "</style>\n",
       "<table border=\"1\" class=\"dataframe\">\n",
       "  <thead>\n",
       "    <tr style=\"text-align: right;\">\n",
       "      <th></th>\n",
       "      <th>imdb_id</th>\n",
       "      <th>popularity</th>\n",
       "      <th>budget</th>\n",
       "      <th>revenue</th>\n",
       "      <th>original_title</th>\n",
       "      <th>cast</th>\n",
       "      <th>director</th>\n",
       "      <th>tagline</th>\n",
       "      <th>overview</th>\n",
       "      <th>runtime</th>\n",
       "      <th>genres</th>\n",
       "      <th>production_companies</th>\n",
       "      <th>release_date</th>\n",
       "      <th>vote_count</th>\n",
       "      <th>vote_average</th>\n",
       "      <th>release_year</th>\n",
       "    </tr>\n",
       "  </thead>\n",
       "  <tbody>\n",
       "    <tr>\n",
       "      <td>491</td>\n",
       "      <td>tt1032751</td>\n",
       "      <td>0.25054</td>\n",
       "      <td>425000000</td>\n",
       "      <td>11087569</td>\n",
       "      <td>The Warrior's Way</td>\n",
       "      <td>Kate Bosworth|Jang Dong-gun|Geoffrey Rush|Dann...</td>\n",
       "      <td>Sngmoo Lee</td>\n",
       "      <td>Assassin. Hero. Legend.</td>\n",
       "      <td>An Asian assassin (Dong-gun Jang) is forced to...</td>\n",
       "      <td>100</td>\n",
       "      <td>Adventure|Fantasy|Action|Western|Thriller</td>\n",
       "      <td>Boram Entertainment Inc.</td>\n",
       "      <td>12/2/2010</td>\n",
       "      <td>74</td>\n",
       "      <td>6.4</td>\n",
       "      <td>2010</td>\n",
       "    </tr>\n",
       "  </tbody>\n",
       "</table>\n",
       "</div>"
      ],
      "text/plain": [
       "       imdb_id  popularity     budget   revenue     original_title  \\\n",
       "491  tt1032751     0.25054  425000000  11087569  The Warrior's Way   \n",
       "\n",
       "                                                  cast    director  \\\n",
       "491  Kate Bosworth|Jang Dong-gun|Geoffrey Rush|Dann...  Sngmoo Lee   \n",
       "\n",
       "                     tagline  \\\n",
       "491  Assassin. Hero. Legend.   \n",
       "\n",
       "                                              overview  runtime  \\\n",
       "491  An Asian assassin (Dong-gun Jang) is forced to...      100   \n",
       "\n",
       "                                        genres      production_companies  \\\n",
       "491  Adventure|Fantasy|Action|Western|Thriller  Boram Entertainment Inc.   \n",
       "\n",
       "    release_date  vote_count  vote_average  release_year  \n",
       "491    12/2/2010          74           6.4          2010  "
      ]
     },
     "execution_count": 77,
     "metadata": {},
     "output_type": "execute_result"
    }
   ],
   "source": [
    "#1\n",
    "import pandas as pd\n",
    "data = pd.read_csv('data.csv')\n",
    "data[data.budget == data.budget.max()]"
   ]
  },
  {
   "cell_type": "code",
   "execution_count": 78,
   "metadata": {},
   "outputs": [
    {
     "data": {
      "text/html": [
       "<div>\n",
       "<style scoped>\n",
       "    .dataframe tbody tr th:only-of-type {\n",
       "        vertical-align: middle;\n",
       "    }\n",
       "\n",
       "    .dataframe tbody tr th {\n",
       "        vertical-align: top;\n",
       "    }\n",
       "\n",
       "    .dataframe thead th {\n",
       "        text-align: right;\n",
       "    }\n",
       "</style>\n",
       "<table border=\"1\" class=\"dataframe\">\n",
       "  <thead>\n",
       "    <tr style=\"text-align: right;\">\n",
       "      <th></th>\n",
       "      <th>imdb_id</th>\n",
       "      <th>popularity</th>\n",
       "      <th>budget</th>\n",
       "      <th>revenue</th>\n",
       "      <th>original_title</th>\n",
       "      <th>cast</th>\n",
       "      <th>director</th>\n",
       "      <th>tagline</th>\n",
       "      <th>overview</th>\n",
       "      <th>runtime</th>\n",
       "      <th>genres</th>\n",
       "      <th>production_companies</th>\n",
       "      <th>release_date</th>\n",
       "      <th>vote_count</th>\n",
       "      <th>vote_average</th>\n",
       "      <th>release_year</th>\n",
       "    </tr>\n",
       "  </thead>\n",
       "  <tbody>\n",
       "    <tr>\n",
       "      <td>1158</td>\n",
       "      <td>tt0279111</td>\n",
       "      <td>0.469518</td>\n",
       "      <td>56000000</td>\n",
       "      <td>12923936</td>\n",
       "      <td>Gods and Generals</td>\n",
       "      <td>Stephen Lang|Jeff Daniels|Robert Duvall|Kevin ...</td>\n",
       "      <td>Ronald F. Maxwell</td>\n",
       "      <td>The nations heart was touched by...</td>\n",
       "      <td>The film centers mostly around the personal an...</td>\n",
       "      <td>214</td>\n",
       "      <td>Drama|History|War</td>\n",
       "      <td>Turner Pictures|Antietam Filmworks</td>\n",
       "      <td>2/21/2003</td>\n",
       "      <td>23</td>\n",
       "      <td>5.8</td>\n",
       "      <td>2003</td>\n",
       "    </tr>\n",
       "  </tbody>\n",
       "</table>\n",
       "</div>"
      ],
      "text/plain": [
       "        imdb_id  popularity    budget   revenue     original_title  \\\n",
       "1158  tt0279111    0.469518  56000000  12923936  Gods and Generals   \n",
       "\n",
       "                                                   cast           director  \\\n",
       "1158  Stephen Lang|Jeff Daniels|Robert Duvall|Kevin ...  Ronald F. Maxwell   \n",
       "\n",
       "                                  tagline  \\\n",
       "1158  The nations heart was touched by...   \n",
       "\n",
       "                                               overview  runtime  \\\n",
       "1158  The film centers mostly around the personal an...      214   \n",
       "\n",
       "                 genres                production_companies release_date  \\\n",
       "1158  Drama|History|War  Turner Pictures|Antietam Filmworks    2/21/2003   \n",
       "\n",
       "      vote_count  vote_average  release_year  \n",
       "1158          23           5.8          2003  "
      ]
     },
     "execution_count": 78,
     "metadata": {},
     "output_type": "execute_result"
    }
   ],
   "source": [
    "#2\n",
    "import pandas as pd\n",
    "data = pd.read_csv('data.csv')\n",
    "data[data.runtime == data.runtime.max()]"
   ]
  },
  {
   "cell_type": "code",
   "execution_count": 79,
   "metadata": {},
   "outputs": [
    {
     "data": {
      "text/html": [
       "<div>\n",
       "<style scoped>\n",
       "    .dataframe tbody tr th:only-of-type {\n",
       "        vertical-align: middle;\n",
       "    }\n",
       "\n",
       "    .dataframe tbody tr th {\n",
       "        vertical-align: top;\n",
       "    }\n",
       "\n",
       "    .dataframe thead th {\n",
       "        text-align: right;\n",
       "    }\n",
       "</style>\n",
       "<table border=\"1\" class=\"dataframe\">\n",
       "  <thead>\n",
       "    <tr style=\"text-align: right;\">\n",
       "      <th></th>\n",
       "      <th>imdb_id</th>\n",
       "      <th>popularity</th>\n",
       "      <th>budget</th>\n",
       "      <th>revenue</th>\n",
       "      <th>original_title</th>\n",
       "      <th>cast</th>\n",
       "      <th>director</th>\n",
       "      <th>tagline</th>\n",
       "      <th>overview</th>\n",
       "      <th>runtime</th>\n",
       "      <th>genres</th>\n",
       "      <th>production_companies</th>\n",
       "      <th>release_date</th>\n",
       "      <th>vote_count</th>\n",
       "      <th>vote_average</th>\n",
       "      <th>release_year</th>\n",
       "    </tr>\n",
       "  </thead>\n",
       "  <tbody>\n",
       "    <tr>\n",
       "      <td>769</td>\n",
       "      <td>tt1449283</td>\n",
       "      <td>1.425344</td>\n",
       "      <td>30000000</td>\n",
       "      <td>14460000</td>\n",
       "      <td>Winnie the Pooh</td>\n",
       "      <td>Jim Cummings|Travis Oates|Jim Cummings|Bud Luc...</td>\n",
       "      <td>Stephen Anderson|Don Hall</td>\n",
       "      <td>Oh Pooh.</td>\n",
       "      <td>During an ordinary day in Hundred Acre Wood, W...</td>\n",
       "      <td>63</td>\n",
       "      <td>Animation|Family</td>\n",
       "      <td>Walt Disney Pictures|Walt Disney Animation Stu...</td>\n",
       "      <td>4/13/2011</td>\n",
       "      <td>174</td>\n",
       "      <td>6.8</td>\n",
       "      <td>2011</td>\n",
       "    </tr>\n",
       "  </tbody>\n",
       "</table>\n",
       "</div>"
      ],
      "text/plain": [
       "       imdb_id  popularity    budget   revenue   original_title  \\\n",
       "769  tt1449283    1.425344  30000000  14460000  Winnie the Pooh   \n",
       "\n",
       "                                                  cast  \\\n",
       "769  Jim Cummings|Travis Oates|Jim Cummings|Bud Luc...   \n",
       "\n",
       "                      director   tagline  \\\n",
       "769  Stephen Anderson|Don Hall  Oh Pooh.   \n",
       "\n",
       "                                              overview  runtime  \\\n",
       "769  During an ordinary day in Hundred Acre Wood, W...       63   \n",
       "\n",
       "               genres                               production_companies  \\\n",
       "769  Animation|Family  Walt Disney Pictures|Walt Disney Animation Stu...   \n",
       "\n",
       "    release_date  vote_count  vote_average  release_year  \n",
       "769    4/13/2011         174           6.8          2011  "
      ]
     },
     "execution_count": 79,
     "metadata": {},
     "output_type": "execute_result"
    }
   ],
   "source": [
    "#3\n",
    "data[data.runtime == data.runtime.min()]"
   ]
  },
  {
   "cell_type": "code",
   "execution_count": 80,
   "metadata": {},
   "outputs": [
    {
     "data": {
      "text/plain": [
       "109.65343915343915"
      ]
     },
     "execution_count": 80,
     "metadata": {},
     "output_type": "execute_result"
    }
   ],
   "source": [
    "#4\n",
    "data.runtime.mean()"
   ]
  },
  {
   "cell_type": "code",
   "execution_count": 81,
   "metadata": {},
   "outputs": [
    {
     "data": {
      "text/plain": [
       "106.5"
      ]
     },
     "execution_count": 81,
     "metadata": {},
     "output_type": "execute_result"
    }
   ],
   "source": [
    "#5\n",
    "data.runtime.median()"
   ]
  },
  {
   "cell_type": "code",
   "execution_count": 82,
   "metadata": {},
   "outputs": [
    {
     "data": {
      "text/html": [
       "<div>\n",
       "<style scoped>\n",
       "    .dataframe tbody tr th:only-of-type {\n",
       "        vertical-align: middle;\n",
       "    }\n",
       "\n",
       "    .dataframe tbody tr th {\n",
       "        vertical-align: top;\n",
       "    }\n",
       "\n",
       "    .dataframe thead th {\n",
       "        text-align: right;\n",
       "    }\n",
       "</style>\n",
       "<table border=\"1\" class=\"dataframe\">\n",
       "  <thead>\n",
       "    <tr style=\"text-align: right;\">\n",
       "      <th></th>\n",
       "      <th>imdb_id</th>\n",
       "      <th>popularity</th>\n",
       "      <th>budget</th>\n",
       "      <th>revenue</th>\n",
       "      <th>original_title</th>\n",
       "      <th>cast</th>\n",
       "      <th>director</th>\n",
       "      <th>tagline</th>\n",
       "      <th>overview</th>\n",
       "      <th>runtime</th>\n",
       "      <th>genres</th>\n",
       "      <th>production_companies</th>\n",
       "      <th>release_date</th>\n",
       "      <th>vote_count</th>\n",
       "      <th>vote_average</th>\n",
       "      <th>release_year</th>\n",
       "      <th>profit</th>\n",
       "    </tr>\n",
       "  </thead>\n",
       "  <tbody>\n",
       "    <tr>\n",
       "      <td>239</td>\n",
       "      <td>tt0499549</td>\n",
       "      <td>9.432768</td>\n",
       "      <td>237000000</td>\n",
       "      <td>2781505847</td>\n",
       "      <td>Avatar</td>\n",
       "      <td>Sam Worthington|Zoe Saldana|Sigourney Weaver|S...</td>\n",
       "      <td>James Cameron</td>\n",
       "      <td>Enter the World of Pandora.</td>\n",
       "      <td>In the 22nd century, a paraplegic Marine is di...</td>\n",
       "      <td>162</td>\n",
       "      <td>Action|Adventure|Fantasy|Science Fiction</td>\n",
       "      <td>Ingenious Film Partners|Twentieth Century Fox ...</td>\n",
       "      <td>12/10/2009</td>\n",
       "      <td>8458</td>\n",
       "      <td>7.1</td>\n",
       "      <td>2009</td>\n",
       "      <td>2544505847</td>\n",
       "    </tr>\n",
       "  </tbody>\n",
       "</table>\n",
       "</div>"
      ],
      "text/plain": [
       "       imdb_id  popularity     budget     revenue original_title  \\\n",
       "239  tt0499549    9.432768  237000000  2781505847         Avatar   \n",
       "\n",
       "                                                  cast       director  \\\n",
       "239  Sam Worthington|Zoe Saldana|Sigourney Weaver|S...  James Cameron   \n",
       "\n",
       "                         tagline  \\\n",
       "239  Enter the World of Pandora.   \n",
       "\n",
       "                                              overview  runtime  \\\n",
       "239  In the 22nd century, a paraplegic Marine is di...      162   \n",
       "\n",
       "                                       genres  \\\n",
       "239  Action|Adventure|Fantasy|Science Fiction   \n",
       "\n",
       "                                  production_companies release_date  \\\n",
       "239  Ingenious Film Partners|Twentieth Century Fox ...   12/10/2009   \n",
       "\n",
       "     vote_count  vote_average  release_year      profit  \n",
       "239        8458           7.1          2009  2544505847  "
      ]
     },
     "execution_count": 82,
     "metadata": {},
     "output_type": "execute_result"
    }
   ],
   "source": [
    "#6\n",
    "import pandas as pd\n",
    "data = pd.read_csv('data.csv')\n",
    "data['profit'] = data.revenue - data.budget\n",
    "data[data.profit == data.profit.max()]"
   ]
  },
  {
   "cell_type": "code",
   "execution_count": 83,
   "metadata": {},
   "outputs": [
    {
     "data": {
      "text/html": [
       "<div>\n",
       "<style scoped>\n",
       "    .dataframe tbody tr th:only-of-type {\n",
       "        vertical-align: middle;\n",
       "    }\n",
       "\n",
       "    .dataframe tbody tr th {\n",
       "        vertical-align: top;\n",
       "    }\n",
       "\n",
       "    .dataframe thead th {\n",
       "        text-align: right;\n",
       "    }\n",
       "</style>\n",
       "<table border=\"1\" class=\"dataframe\">\n",
       "  <thead>\n",
       "    <tr style=\"text-align: right;\">\n",
       "      <th></th>\n",
       "      <th>imdb_id</th>\n",
       "      <th>popularity</th>\n",
       "      <th>budget</th>\n",
       "      <th>revenue</th>\n",
       "      <th>original_title</th>\n",
       "      <th>cast</th>\n",
       "      <th>director</th>\n",
       "      <th>tagline</th>\n",
       "      <th>overview</th>\n",
       "      <th>runtime</th>\n",
       "      <th>genres</th>\n",
       "      <th>production_companies</th>\n",
       "      <th>release_date</th>\n",
       "      <th>vote_count</th>\n",
       "      <th>vote_average</th>\n",
       "      <th>release_year</th>\n",
       "      <th>profit</th>\n",
       "    </tr>\n",
       "  </thead>\n",
       "  <tbody>\n",
       "    <tr>\n",
       "      <td>491</td>\n",
       "      <td>tt1032751</td>\n",
       "      <td>0.25054</td>\n",
       "      <td>425000000</td>\n",
       "      <td>11087569</td>\n",
       "      <td>The Warrior's Way</td>\n",
       "      <td>Kate Bosworth|Jang Dong-gun|Geoffrey Rush|Dann...</td>\n",
       "      <td>Sngmoo Lee</td>\n",
       "      <td>Assassin. Hero. Legend.</td>\n",
       "      <td>An Asian assassin (Dong-gun Jang) is forced to...</td>\n",
       "      <td>100</td>\n",
       "      <td>Adventure|Fantasy|Action|Western|Thriller</td>\n",
       "      <td>Boram Entertainment Inc.</td>\n",
       "      <td>12/2/2010</td>\n",
       "      <td>74</td>\n",
       "      <td>6.4</td>\n",
       "      <td>2010</td>\n",
       "      <td>-413912431</td>\n",
       "    </tr>\n",
       "  </tbody>\n",
       "</table>\n",
       "</div>"
      ],
      "text/plain": [
       "       imdb_id  popularity     budget   revenue     original_title  \\\n",
       "491  tt1032751     0.25054  425000000  11087569  The Warrior's Way   \n",
       "\n",
       "                                                  cast    director  \\\n",
       "491  Kate Bosworth|Jang Dong-gun|Geoffrey Rush|Dann...  Sngmoo Lee   \n",
       "\n",
       "                     tagline  \\\n",
       "491  Assassin. Hero. Legend.   \n",
       "\n",
       "                                              overview  runtime  \\\n",
       "491  An Asian assassin (Dong-gun Jang) is forced to...      100   \n",
       "\n",
       "                                        genres      production_companies  \\\n",
       "491  Adventure|Fantasy|Action|Western|Thriller  Boram Entertainment Inc.   \n",
       "\n",
       "    release_date  vote_count  vote_average  release_year     profit  \n",
       "491    12/2/2010          74           6.4          2010 -413912431  "
      ]
     },
     "execution_count": 83,
     "metadata": {},
     "output_type": "execute_result"
    }
   ],
   "source": [
    "#7\n",
    "data[data.profit == data.profit.min()]"
   ]
  },
  {
   "cell_type": "code",
   "execution_count": 11,
   "metadata": {},
   "outputs": [
    {
     "data": {
      "text/plain": [
       "1478"
      ]
     },
     "execution_count": 11,
     "metadata": {},
     "output_type": "execute_result"
    }
   ],
   "source": [
    "#8\n",
    "len(data[data.pribil > 0])"
   ]
  },
  {
   "cell_type": "code",
   "execution_count": 84,
   "metadata": {},
   "outputs": [
    {
     "data": {
      "text/html": [
       "<div>\n",
       "<style scoped>\n",
       "    .dataframe tbody tr th:only-of-type {\n",
       "        vertical-align: middle;\n",
       "    }\n",
       "\n",
       "    .dataframe tbody tr th {\n",
       "        vertical-align: top;\n",
       "    }\n",
       "\n",
       "    .dataframe thead th {\n",
       "        text-align: right;\n",
       "    }\n",
       "</style>\n",
       "<table border=\"1\" class=\"dataframe\">\n",
       "  <thead>\n",
       "    <tr style=\"text-align: right;\">\n",
       "      <th></th>\n",
       "      <th>imdb_id</th>\n",
       "      <th>popularity</th>\n",
       "      <th>budget</th>\n",
       "      <th>revenue</th>\n",
       "      <th>original_title</th>\n",
       "      <th>cast</th>\n",
       "      <th>director</th>\n",
       "      <th>tagline</th>\n",
       "      <th>overview</th>\n",
       "      <th>runtime</th>\n",
       "      <th>genres</th>\n",
       "      <th>production_companies</th>\n",
       "      <th>release_date</th>\n",
       "      <th>vote_count</th>\n",
       "      <th>vote_average</th>\n",
       "      <th>release_year</th>\n",
       "      <th>profit</th>\n",
       "    </tr>\n",
       "  </thead>\n",
       "  <tbody>\n",
       "    <tr>\n",
       "      <td>600</td>\n",
       "      <td>tt0468569</td>\n",
       "      <td>8.466668</td>\n",
       "      <td>185000000</td>\n",
       "      <td>1001921825</td>\n",
       "      <td>The Dark Knight</td>\n",
       "      <td>Christian Bale|Michael Caine|Heath Ledger|Aaro...</td>\n",
       "      <td>Christopher Nolan</td>\n",
       "      <td>Why So Serious?</td>\n",
       "      <td>Batman raises the stakes in his war on crime. ...</td>\n",
       "      <td>152</td>\n",
       "      <td>Drama|Action|Crime|Thriller</td>\n",
       "      <td>DC Comics|Legendary Pictures|Warner Bros.|Syncopy</td>\n",
       "      <td>7/16/2008</td>\n",
       "      <td>8432</td>\n",
       "      <td>8.1</td>\n",
       "      <td>2008</td>\n",
       "      <td>816921825</td>\n",
       "    </tr>\n",
       "  </tbody>\n",
       "</table>\n",
       "</div>"
      ],
      "text/plain": [
       "       imdb_id  popularity     budget     revenue   original_title  \\\n",
       "600  tt0468569    8.466668  185000000  1001921825  The Dark Knight   \n",
       "\n",
       "                                                  cast           director  \\\n",
       "600  Christian Bale|Michael Caine|Heath Ledger|Aaro...  Christopher Nolan   \n",
       "\n",
       "             tagline                                           overview  \\\n",
       "600  Why So Serious?  Batman raises the stakes in his war on crime. ...   \n",
       "\n",
       "     runtime                       genres  \\\n",
       "600      152  Drama|Action|Crime|Thriller   \n",
       "\n",
       "                                  production_companies release_date  \\\n",
       "600  DC Comics|Legendary Pictures|Warner Bros.|Syncopy    7/16/2008   \n",
       "\n",
       "     vote_count  vote_average  release_year     profit  \n",
       "600        8432           8.1          2008  816921825  "
      ]
     },
     "execution_count": 84,
     "metadata": {},
     "output_type": "execute_result"
    }
   ],
   "source": [
    "#9\n",
    "import pandas as pd\n",
    "data = pd.read_csv('data.csv')\n",
    "data['profit'] = data.revenue - data.budget\n",
    "data8 = data[data['release_year'] == 2008]\n",
    "data8[data8.profit == data8.profit.max()]"
   ]
  },
  {
   "cell_type": "code",
   "execution_count": 86,
   "metadata": {},
   "outputs": [
    {
     "data": {
      "text/html": [
       "<div>\n",
       "<style scoped>\n",
       "    .dataframe tbody tr th:only-of-type {\n",
       "        vertical-align: middle;\n",
       "    }\n",
       "\n",
       "    .dataframe tbody tr th {\n",
       "        vertical-align: top;\n",
       "    }\n",
       "\n",
       "    .dataframe thead th {\n",
       "        text-align: right;\n",
       "    }\n",
       "</style>\n",
       "<table border=\"1\" class=\"dataframe\">\n",
       "  <thead>\n",
       "    <tr style=\"text-align: right;\">\n",
       "      <th></th>\n",
       "      <th>imdb_id</th>\n",
       "      <th>popularity</th>\n",
       "      <th>budget</th>\n",
       "      <th>revenue</th>\n",
       "      <th>original_title</th>\n",
       "      <th>cast</th>\n",
       "      <th>director</th>\n",
       "      <th>tagline</th>\n",
       "      <th>overview</th>\n",
       "      <th>runtime</th>\n",
       "      <th>genres</th>\n",
       "      <th>production_companies</th>\n",
       "      <th>release_date</th>\n",
       "      <th>vote_count</th>\n",
       "      <th>vote_average</th>\n",
       "      <th>release_year</th>\n",
       "      <th>profit</th>\n",
       "    </tr>\n",
       "  </thead>\n",
       "  <tbody>\n",
       "    <tr>\n",
       "      <td>600</td>\n",
       "      <td>tt0468569</td>\n",
       "      <td>8.466668</td>\n",
       "      <td>185000000</td>\n",
       "      <td>1001921825</td>\n",
       "      <td>The Dark Knight</td>\n",
       "      <td>Christian Bale|Michael Caine|Heath Ledger|Aaro...</td>\n",
       "      <td>Christopher Nolan</td>\n",
       "      <td>Why So Serious?</td>\n",
       "      <td>Batman raises the stakes in his war on crime. ...</td>\n",
       "      <td>152</td>\n",
       "      <td>Drama|Action|Crime|Thriller</td>\n",
       "      <td>DC Comics|Legendary Pictures|Warner Bros.|Syncopy</td>\n",
       "      <td>7/16/2008</td>\n",
       "      <td>8432</td>\n",
       "      <td>8.1</td>\n",
       "      <td>2008</td>\n",
       "      <td>816921825</td>\n",
       "    </tr>\n",
       "  </tbody>\n",
       "</table>\n",
       "</div>"
      ],
      "text/plain": [
       "       imdb_id  popularity     budget     revenue   original_title  \\\n",
       "600  tt0468569    8.466668  185000000  1001921825  The Dark Knight   \n",
       "\n",
       "                                                  cast           director  \\\n",
       "600  Christian Bale|Michael Caine|Heath Ledger|Aaro...  Christopher Nolan   \n",
       "\n",
       "             tagline                                           overview  \\\n",
       "600  Why So Serious?  Batman raises the stakes in his war on crime. ...   \n",
       "\n",
       "     runtime                       genres  \\\n",
       "600      152  Drama|Action|Crime|Thriller   \n",
       "\n",
       "                                  production_companies release_date  \\\n",
       "600  DC Comics|Legendary Pictures|Warner Bros.|Syncopy    7/16/2008   \n",
       "\n",
       "     vote_count  vote_average  release_year     profit  \n",
       "600        8432           8.1          2008  816921825  "
      ]
     },
     "execution_count": 86,
     "metadata": {},
     "output_type": "execute_result"
    }
   ],
   "source": [
    "#9\n",
    "import pandas as pd\n",
    "data = pd.read_csv('data.csv')\n",
    "data['profit'] = data.revenue - data.budget\n",
    "data.query('release_year == 2008').sort_values(by = 'profit', ascending = False).head(1)"
   ]
  },
  {
   "cell_type": "code",
   "execution_count": 87,
   "metadata": {},
   "outputs": [
    {
     "data": {
      "text/html": [
       "<div>\n",
       "<style scoped>\n",
       "    .dataframe tbody tr th:only-of-type {\n",
       "        vertical-align: middle;\n",
       "    }\n",
       "\n",
       "    .dataframe tbody tr th {\n",
       "        vertical-align: top;\n",
       "    }\n",
       "\n",
       "    .dataframe thead th {\n",
       "        text-align: right;\n",
       "    }\n",
       "</style>\n",
       "<table border=\"1\" class=\"dataframe\">\n",
       "  <thead>\n",
       "    <tr style=\"text-align: right;\">\n",
       "      <th></th>\n",
       "      <th>imdb_id</th>\n",
       "      <th>popularity</th>\n",
       "      <th>budget</th>\n",
       "      <th>revenue</th>\n",
       "      <th>original_title</th>\n",
       "      <th>cast</th>\n",
       "      <th>director</th>\n",
       "      <th>tagline</th>\n",
       "      <th>overview</th>\n",
       "      <th>runtime</th>\n",
       "      <th>genres</th>\n",
       "      <th>production_companies</th>\n",
       "      <th>release_date</th>\n",
       "      <th>vote_count</th>\n",
       "      <th>vote_average</th>\n",
       "      <th>release_year</th>\n",
       "      <th>profit</th>\n",
       "    </tr>\n",
       "  </thead>\n",
       "  <tbody>\n",
       "    <tr>\n",
       "      <td>1246</td>\n",
       "      <td>tt1210819</td>\n",
       "      <td>1.21451</td>\n",
       "      <td>255000000</td>\n",
       "      <td>89289910</td>\n",
       "      <td>The Lone Ranger</td>\n",
       "      <td>Johnny Depp|Armie Hammer|William Fichtner|Hele...</td>\n",
       "      <td>Gore Verbinski</td>\n",
       "      <td>Never Take Off the Mask</td>\n",
       "      <td>The Texas Rangers chase down a gang of outlaws...</td>\n",
       "      <td>149</td>\n",
       "      <td>Action|Adventure|Western</td>\n",
       "      <td>Walt Disney Pictures|Jerry Bruckheimer Films|I...</td>\n",
       "      <td>7/3/2013</td>\n",
       "      <td>1607</td>\n",
       "      <td>6.0</td>\n",
       "      <td>2013</td>\n",
       "      <td>-165710090</td>\n",
       "    </tr>\n",
       "  </tbody>\n",
       "</table>\n",
       "</div>"
      ],
      "text/plain": [
       "        imdb_id  popularity     budget   revenue   original_title  \\\n",
       "1246  tt1210819     1.21451  255000000  89289910  The Lone Ranger   \n",
       "\n",
       "                                                   cast        director  \\\n",
       "1246  Johnny Depp|Armie Hammer|William Fichtner|Hele...  Gore Verbinski   \n",
       "\n",
       "                      tagline  \\\n",
       "1246  Never Take Off the Mask   \n",
       "\n",
       "                                               overview  runtime  \\\n",
       "1246  The Texas Rangers chase down a gang of outlaws...      149   \n",
       "\n",
       "                        genres  \\\n",
       "1246  Action|Adventure|Western   \n",
       "\n",
       "                                   production_companies release_date  \\\n",
       "1246  Walt Disney Pictures|Jerry Bruckheimer Films|I...     7/3/2013   \n",
       "\n",
       "      vote_count  vote_average  release_year     profit  \n",
       "1246        1607           6.0          2013 -165710090  "
      ]
     },
     "execution_count": 87,
     "metadata": {},
     "output_type": "execute_result"
    }
   ],
   "source": [
    "#10\n",
    "data8 = data[(data['release_year'] <= 2014) & (data['release_year'] >= 2012)]\n",
    "data8[data8.profit == data8.profit.min()]"
   ]
  },
  {
   "cell_type": "code",
   "execution_count": 88,
   "metadata": {},
   "outputs": [
    {
     "data": {
      "text/html": [
       "<div>\n",
       "<style scoped>\n",
       "    .dataframe tbody tr th:only-of-type {\n",
       "        vertical-align: middle;\n",
       "    }\n",
       "\n",
       "    .dataframe tbody tr th {\n",
       "        vertical-align: top;\n",
       "    }\n",
       "\n",
       "    .dataframe thead th {\n",
       "        text-align: right;\n",
       "    }\n",
       "</style>\n",
       "<table border=\"1\" class=\"dataframe\">\n",
       "  <thead>\n",
       "    <tr style=\"text-align: right;\">\n",
       "      <th></th>\n",
       "      <th>imdb_id</th>\n",
       "      <th>popularity</th>\n",
       "      <th>budget</th>\n",
       "      <th>revenue</th>\n",
       "      <th>original_title</th>\n",
       "      <th>cast</th>\n",
       "      <th>director</th>\n",
       "      <th>tagline</th>\n",
       "      <th>overview</th>\n",
       "      <th>runtime</th>\n",
       "      <th>genres</th>\n",
       "      <th>production_companies</th>\n",
       "      <th>release_date</th>\n",
       "      <th>vote_count</th>\n",
       "      <th>vote_average</th>\n",
       "      <th>release_year</th>\n",
       "      <th>profit</th>\n",
       "    </tr>\n",
       "  </thead>\n",
       "  <tbody>\n",
       "    <tr>\n",
       "      <td>1246</td>\n",
       "      <td>tt1210819</td>\n",
       "      <td>1.21451</td>\n",
       "      <td>255000000</td>\n",
       "      <td>89289910</td>\n",
       "      <td>The Lone Ranger</td>\n",
       "      <td>Johnny Depp|Armie Hammer|William Fichtner|Hele...</td>\n",
       "      <td>Gore Verbinski</td>\n",
       "      <td>Never Take Off the Mask</td>\n",
       "      <td>The Texas Rangers chase down a gang of outlaws...</td>\n",
       "      <td>149</td>\n",
       "      <td>Action|Adventure|Western</td>\n",
       "      <td>Walt Disney Pictures|Jerry Bruckheimer Films|I...</td>\n",
       "      <td>7/3/2013</td>\n",
       "      <td>1607</td>\n",
       "      <td>6.0</td>\n",
       "      <td>2013</td>\n",
       "      <td>-165710090</td>\n",
       "    </tr>\n",
       "  </tbody>\n",
       "</table>\n",
       "</div>"
      ],
      "text/plain": [
       "        imdb_id  popularity     budget   revenue   original_title  \\\n",
       "1246  tt1210819     1.21451  255000000  89289910  The Lone Ranger   \n",
       "\n",
       "                                                   cast        director  \\\n",
       "1246  Johnny Depp|Armie Hammer|William Fichtner|Hele...  Gore Verbinski   \n",
       "\n",
       "                      tagline  \\\n",
       "1246  Never Take Off the Mask   \n",
       "\n",
       "                                               overview  runtime  \\\n",
       "1246  The Texas Rangers chase down a gang of outlaws...      149   \n",
       "\n",
       "                        genres  \\\n",
       "1246  Action|Adventure|Western   \n",
       "\n",
       "                                   production_companies release_date  \\\n",
       "1246  Walt Disney Pictures|Jerry Bruckheimer Films|I...     7/3/2013   \n",
       "\n",
       "      vote_count  vote_average  release_year     profit  \n",
       "1246        1607           6.0          2013 -165710090  "
      ]
     },
     "execution_count": 88,
     "metadata": {},
     "output_type": "execute_result"
    }
   ],
   "source": [
    "#10\n",
    "import pandas as pd\n",
    "data = pd.read_csv('data.csv')\n",
    "data['profit'] = data.revenue - data.budget\n",
    "data.query('2011 < release_year < 2015').sort_values(by = 'profit', ascending = True).head(1)"
   ]
  },
  {
   "cell_type": "code",
   "execution_count": 89,
   "metadata": {
    "scrolled": true
   },
   "outputs": [
    {
     "name": "stdout",
     "output_type": "stream",
     "text": [
      "Counter({'Drama': 782, 'Comedy': 683, 'Thriller': 597, 'Action': 583, 'Adventure': 416, 'Crime': 315, 'Romance': 308, 'Family': 260, 'Science Fiction': 248, 'Fantasy': 223, 'Horror': 176, 'Mystery': 168, 'Animation': 139, 'Music': 64, 'History': 62, 'War': 58, 'Western': 20, 'Documentary': 8, 'Foreign': 2})\n"
     ]
    }
   ],
   "source": [
    "#11\n",
    "import pandas as pd\n",
    "import collections\n",
    "c = collections.Counter()\n",
    "data = pd.read_csv('data.csv')\n",
    "genre = data.genres.str.split('|').sum()\n",
    "for word in genre:\n",
    "    c[word] += 1\n",
    "print(c)"
   ]
  },
  {
   "cell_type": "code",
   "execution_count": 90,
   "metadata": {},
   "outputs": [
    {
     "name": "stdout",
     "output_type": "stream",
     "text": [
      "Counter({'Drama': 560, 'Comedy': 551, 'Thriller': 446, 'Action': 444, 'Adventure': 337, 'Romance': 242, 'Crime': 231, 'Family': 226, 'Science Fiction': 195, 'Fantasy': 188, 'Horror': 150, 'Animation': 120, 'Mystery': 119, 'Music': 47, 'History': 46, 'War': 41, 'Western': 12, 'Documentary': 7})\n"
     ]
    }
   ],
   "source": [
    "#12\n",
    "import pandas as pd\n",
    "import collections\n",
    "c = collections.Counter()\n",
    "data = pd.read_csv('data.csv')\n",
    "data['pribil'] = data.revenue - data.budget\n",
    "data = data[data['pribil'] > 0]\n",
    "genre = data.genres.str.split('|').sum()\n",
    "for word in genre:\n",
    "    c[word] += 1\n",
    "print(c)"
   ]
  },
  {
   "cell_type": "code",
   "execution_count": 91,
   "metadata": {},
   "outputs": [
    {
     "name": "stdout",
     "output_type": "stream",
     "text": [
      "Counter({'Steven Soderbergh': 13, 'Ridley Scott': 12, 'Clint Eastwood': 12, 'Robert Rodriguez': 11, 'Steven Spielberg': 10, 'Shawn Levy': 10, 'Peter Farrelly': 10, 'Bobby Farrelly': 9, 'Tim Burton': 9, 'Antoine Fuqua': 8, 'Ron Howard': 8, 'M. Night Shyamalan': 8, 'Christopher Nolan': 8, 'Peter Jackson': 8, 'Michael Bay': 8, 'Brett Ratner': 8, 'Todd Phillips': 8, 'Adam Shankman': 8, 'Gore Verbinski': 8, 'Quentin Tarantino': 7, 'Paul W.S. Anderson': 7, 'Lasse HallstrÃ¶m': 7, 'Dennis Dugan': 7, 'Marc Forster': 7, 'Francis Lawrence': 6, 'Adam McKay': 6, 'Robert Zemeckis': 6, 'Andy Fickman': 6, 'David Fincher': 6, 'Tim Story': 6, 'Zack Snyder': 6, 'Robert Luketic': 6, 'Steve Carr': 6, 'Sam Raimi': 6, 'Tony Scott': 6, 'Joel Coen': 6, 'Martin Scorsese': 6, 'Danny Boyle': 6, 'Louis Leterrier': 6, 'Brian Robbins': 6, 'Rob Cohen': 6, 'Peter Berg': 6, 'Peter Segal': 6, 'Raja Gosnell': 6, 'J.J. Abrams': 5, 'Sam Mendes': 5, 'Lana Wachowski': 5, 'Lilly Wachowski': 5, 'Chris Columbus': 5, 'Peyton Reed': 5, 'Jaume Collet-Serra': 5, 'F. Gary Gray': 5, 'Guy Ritchie': 5, 'Nancy Meyers': 5, 'Michael Mann': 5, 'Judd Apatow': 5, 'Joe Wright': 5, 'Guillermo del Toro': 5, 'Jay Roach': 5, 'Cameron Crowe': 5, 'Ken Kwapis': 5, 'Bryan Singer': 5, 'Wes Anderson': 5, 'Doug Liman': 5, 'Jon Favreau': 5, 'David Dobkin': 5, 'Carlos Saldanha': 5, 'Renny Harlin': 5, 'Roland Emmerich': 5, 'David R. Ellis': 5, 'Paul Weitz': 5, 'Justin Lin': 5, 'Andrzej Bartkowiak': 5, 'Jon Turteltaub': 5, 'James Mangold': 5, 'Paul Greengrass': 5, 'Jason Friedberg': 5, 'Aaron Seltzer': 5, 'Wes Craven': 5, 'Oliver Stone': 5, 'Martin Campbell': 5, 'Simon West': 5, 'John Moore': 5, 'Lee Tamahori': 5, 'Mark Waters': 5, 'John Singleton': 5, 'D.J. Caruso': 5, 'Joel Schumacher': 5, 'Robert Schwentke': 4, 'James Wan': 4, 'Alejandro GonzÃ¡lez IÃ±Ã¡rritu': 4, 'Olivier Megaton': 4, 'Brad Bird': 4, 'Matthew Vaughn': 4, 'Rob Letterman': 4, 'Tarsem Singh': 4, 'Gavin Hood': 4, 'Brian Helgeland': 4, 'John Erick Dowdle': 4, 'Boaz Yakin': 4, 'Anne Fletcher': 4, 'Paul McGuigan': 4, 'David Gordon Green': 4, 'Barry Levinson': 4, 'Jon M. Chu': 4, 'David Ayer': 4, 'Phil Lord': 4, 'Christopher Miller': 4, 'Luke Greenfield': 4, 'Eric Darnell': 4, 'Rob Marshall': 4, 'Darren Aronofsky': 4, 'Frank Coraci': 4, 'Nicholas Stoller': 4, 'Nick Cassavetes': 4, 'Rob Minkoff': 4, 'George Clooney': 4, 'David Yates': 4, 'McG': 4, 'John Lee Hancock': 4, 'Mark Neveldine': 4, 'Brian Taylor': 4, 'Ethan Coen': 4, 'David Twohy': 4, 'Dominic Sena': 4, 'James McTeigue': 4, 'NimrÃ³d Antal': 4, 'Jason Reitman': 4, 'David Bowers': 4, 'Rob Zombie': 4, 'Donald Petrie': 4, 'Marcus Nispel': 4, 'Richard Linklater': 4, 'Tom McGrath': 4, 'Edward Zwick': 4, 'Andy Tennant': 4, 'Garry Marshall': 4, 'Kevin Smith': 4, 'Andrew Adamson': 4, 'Keenen Ivory Wayans': 4, 'Gary Fleder': 4, 'David Frankel': 4, 'Malcolm D. Lee': 4, 'Bill Condon': 4, 'Mikael HÃ¥fstrÃ¶m': 4, 'Alexander Payne': 4, 'David Cronenberg': 4, 'Barry Sonnenfeld': 4, 'Len Wiseman': 4, 'George Miller': 3, 'Pierre Coffin': 3, 'Pete Docter': 3, 'Kenneth Branagh': 3, 'Brad Peyton': 3, 'Neill Blomkamp': 3, 'Breck Eisner': 3, 'Todd Haynes': 3, 'Baltasar KormÃ¡kur': 3, 'John Wells': 3, 'David Koepp': 3, 'Tom Hooper': 3, 'Paul Feig': 3, 'Glenn Ficarra': 3, 'John Requa': 3, 'Steve Martino': 3, 'Jonathan Levine': 3, 'Gil Kenan': 3, 'Sean Anders': 3, 'Scott Cooper': 3, 'Pierre Morel': 3, 'Neil Burger': 3, 'Jonathan Liebesman': 3, 'Jake Kasdan': 3, 'Matt Reeves': 3, 'Marc Webb': 3, 'Roger Donaldson': 3, 'Dean DeBlois': 3, 'Paul Thomas Anderson': 3, 'Frank Miller': 3, 'Will Gluck': 3, 'Bennett Miller': 3, 'Steve Pink': 3, 'Thomas Carter': 3, 'Randall Wallace': 3, 'Ruben Fleischer': 3, 'Chris Weitz': 3, 'Stephen Sommers': 3, 'Burr Steers': 3, 'Jim Sheridan': 3, 'Conrad Vernon': 3, 'Betty Thomas': 3, 'Kevin Macdonald': 3, 'David S. Goyer': 3, 'Patrick Lussier': 3, 'Tom Tykwer': 3, 'Michael Moore': 3, 'Peter Chelsom': 3, 'Tony Gilroy': 3, 'Greg Mottola': 3, 'Jonathan Mostow': 3, 'Thor Freudenthal': 3, 'Vicky Jenson': 3, 'Marc Lawrence': 3, 'Chris Renaud': 3, 'Sylvester Stallone': 3, 'Chris Sanders': 3, 'Lee Unkrich': 3, 'Mike Newell': 3, 'Mike Mitchell': 3, 'Joe Carnahan': 3, 'Allen Hughes': 3, 'Ben Affleck': 3, 'Harald Zwart': 3, 'Roman Polanski': 3, 'Paul Haggis': 3, 'David O. Russell': 3, 'Jimmy Hayward': 3, 'Alexandre Aja': 3, 'Michael Lembeck': 3, 'John Madden': 3, 'Brian Levant': 3, 'Robert Redford': 3, 'Neil LaBute': 3, 'Tom Dey': 3, 'Tyler Perry': 3, 'Baz Luhrmann': 3, 'Ben Stiller': 3, 'Iain Softley': 3, 'Jesse Dylan': 3, 'John Stockwell': 3, 'Tim Hill': 3, 'Joe Johnston': 3, 'Andrew Stanton': 3, 'Catherine Hardwicke': 3, 'Kathryn Bigelow': 3, 'Seth Gordon': 3, 'Woody Allen': 3, 'Brad Anderson': 3, 'Gregory Hoblit': 3, 'Gus Van Sant': 3, 'Sam Fell': 3, 'Andrew Niccol': 3, 'Stephen Daldry': 3, 'Kelly Asbury': 3, 'Craig Brewer': 3, 'William Friedkin': 3, 'Chris Wedge': 3, 'Wayne Wang': 3, 'Steven Brill': 3, 'Jeff Tremaine': 3, 'Walter Hill': 3, 'John Woo': 3, 'Tom Shadyac': 3, 'Ang Lee': 3, 'Uwe Boll': 3, 'Rob Reiner': 3, 'Alfonso CuarÃ³n': 3, 'Stephen Frears': 3, 'Wolfgang Petersen': 3, 'Alan Taylor': 2, 'Kyle Balda': 2, 'Joss Whedon': 2, 'Christopher McQuarrie': 2, 'Seth MacFarlane': 2, 'Wes Ball': 2, 'Elizabeth Banks': 2, 'Tim Johnson': 2, 'Denis Villeneuve': 2, 'Josh Trank': 2, 'George Tillman, Jr.': 2, 'Genndy Tartakovsky': 2, 'Jessie Nelson': 2, 'Daniel Espinosa': 2, 'Mark Osborne': 2, 'Simon Curtis': 2, 'Jason Moore': 2, 'Camille Delamarre': 2, 'Jonathan Demme': 2, 'Ken Scott': 2, 'Mike Binder': 2, 'James Gunn': 2, 'Joe Russo': 2, 'Anthony Russo': 2, 'Don Hall': 2, 'Chris Williams': 2, 'Luc Besson': 2, 'Evan Goldberg': 2, 'Seth Rogen': 2, 'Simon J. Smith': 2, 'Noam Murro': 2, 'Phillip Noyce': 2, 'Scott Frank': 2, 'Daniel Barnz': 2, 'J.C. Chandor': 2, 'Michael Spierig': 2, 'Peter Spierig': 2, 'Scott Waugh': 2, 'Anthony Stacchi': 2, 'Steven Quale': 2, 'Shana Feste': 2, 'Stuart Beattie': 2, 'Miguel Arteta': 2, 'Craig Gillespie': 2, 'Charles Martin Smith': 2, 'James Bobin': 2, 'Rupert Wyatt': 2, 'James Cameron': 2, 'Ron Clements': 2, 'John Musker': 2, 'Henry Selick': 2, 'Christian Alvart': 2, 'Alex Proyas': 2, 'Duncan Jones': 2, 'P.J. Hogan': 2, 'John Hillcoat': 2, 'Nora Ephron': 2, 'Karyn Kusama': 2, 'Gary Winick': 2, 'Lee Daniels': 2, 'John Hamburg': 2, 'Richard Curtis': 2, 'Kevin Greutert': 2, 'Jean-Marc VallÃ©e': 2, 'Brad Silberling': 2, 'Harold Ramis': 2, 'Walt Becker': 2, 'Alejandro AmenÃ¡bar': 2, 'Werner Herzog': 2, 'Lone Scherfig': 2, 'Brian Koppelman': 2, 'David Levien': 2, 'Michael J. Bassett': 2, 'Stewart Hendler': 2, 'Bruce Beresford': 2, 'Joseph Kosinski': 2, 'Byron Howard': 2, 'Michael Apted': 2, 'Edgar Wright': 2, 'Albert Hughes': 2, 'David Slade': 2, 'Peter Weir': 2, 'Jonathan Lynn': 2, 'Scott Stewart': 2, 'Michael Patrick King': 2, 'John Luessenhop': 2, 'Mark Romanek': 2, 'Neil Marshall': 2, 'Roger Michell': 2, 'James L. Brooks': 2, 'Eric Brevig': 2, 'Tom Vaughan': 2, 'Roger Kumble': 2, 'Kevin Munroe': 2, 'David Silverman': 2, 'Jean-Jacques Annaud': 2, 'John A. Davis': 2, 'Peter Howitt': 2, 'Victor Salva': 2, 'Rod Lurie': 2, 'John Dahl': 2, 'Bill Paxton': 2, 'Luis Mandoki': 2, 'Scott Hicks': 2, 'Ivan Reitman': 2, 'Frank Oz': 2, 'Frank Darabont': 2, 'Mike Tollin': 2, 'Peter Hyams': 2, 'Phyllida Lloyd': 2, 'Timur Bekmambetov': 2, 'Scott Derrickson': 2, 'Gabriele Muccino': 2, 'Pete Travis': 2, 'David Wain': 2, 'Mathieu Kassovitz': 2, 'Martin McDonagh': 2, 'Jon Hurwitz': 2, 'Hayden Schlossberg': 2, 'Jon Avnet': 2, 'GÃ¡bor CsupÃ³': 2, 'Gina Prince-Bythewood': 2, 'Julian Jarrold': 2, 'Rian Johnson': 2, 'Kirk De Micco': 2, 'Howard Deutch': 2, 'Joshua Michael Stern': 2, 'John Lasseter': 2, 'Brad Furman': 2, 'Chris Miller': 2, 'Michel Gondry': 2, 'Simon Wells': 2, 'Henry Joost': 2, 'Ariel Schulman': 2, 'Michael Dowse': 2, 'Joe Nussbaum': 2, 'John Whitesell': 2, 'Salim Akil': 2, 'George Lucas': 2, 'Andrew Davis': 2, 'Spike Jonze': 2, 'Brian De Palma': 2, 'Michael Caton-Jones': 2, 'Rob Bowman': 2, 'Carl Franklin': 2, 'Shekhar Kapur': 2, 'Denzel Washington': 2, 'Stephen Gaghan': 2, 'Reginald Hudlin': 2, 'Charles Stone III': 2, 'Gary Ross': 2, 'Kirk Jones': 2, 'Larry Charles': 2, 'Peter Lord': 2, 'Andrew Dominik': 2, 'Walter Salles': 2, 'Mark Steven Johnson': 2, 'David Zucker': 2, 'Bille Woodruff': 2, 'Clark Johnson': 2, 'Richard Donner': 2, 'Nigel Cole': 2, 'Robert Iscove': 2, 'Chris Buck': 2, 'Taylor Hackford': 2, 'Spike Lee': 2, 'Sofia Coppola': 2, 'Oliver Hirschbiegel': 2, 'Courtney Solomon': 2, 'Mark Dindal': 2, 'Nick Park': 2, 'Jay Chandrasekhar': 2, 'Kevin Rodney Sullivan': 2, 'Geoffrey Sax': 2, 'James Wong': 2, 'Mel Gibson': 2, 'Darren Lynn Bousman': 2, 'Nick Hurran': 2, 'Peter Hewitt': 2, 'Takashi Shimizu': 2, 'Richard Loncraine': 2, 'Mira Nair': 2, 'Bibo Bergeron': 2, 'Danny Leiner': 2, 'Mike Nichols': 2, 'Philip Kaufman': 2, 'Jay Russell': 2, 'Richard LaGravenese': 2, 'Kevin Lima': 2, 'Eli Roth': 2, 'Colin Trevorrow': 1, 'Alex Garland': 1, 'Sam Taylor-Johnson': 1, 'Tom McCarthy': 1, 'Lenny Abrahamson': 1, 'Peter Sohn': 1, 'John Crowley': 1, 'Lee Toland Krieger': 1, 'Ilya Naishuller': 1, 'Jake Schreier': 1, 'Ericson Core': 1, 'Aleksander Bach': 1, 'Ryan Coogler': 1, 'Peter Landesman': 1, 'John Francis Daley': 1, 'Jonathan M. Goldstein': 1, 'Joel Edgerton': 1, 'Jocelyn Moorhouse': 1, 'Ari Sandel': 1, 'Ciaran Foy': 1, 'Doug Ellin': 1, 'Jeremy Garelick': 1, 'Michael Dougherty': 1, 'Dean Israelite': 1, 'Gregory Jacobs': 1, 'Gregory Plotkin': 1, 'Billy Ray': 1, 'Paul Tibbitt': 1, 'Leigh Whannell': 1, 'Nicholas Hytner': 1, 'David M. Rosenthal': 1, 'Noah Baumbach': 1, 'Etan Cohen': 1, 'Sarah Gavron': 1, 'Max Joseph': 1, 'Alejandro Monteverde': 1, 'Chad Stahelski': 1, 'David Leitch': 1, 'Morten Tyldum': 1, 'Dan Gilroy': 1, 'Gareth Edwards': 1, 'Robert Stromberg': 1, 'Stiles White': 1, 'Patrick Hughes': 1, 'Sergey Bodrov': 1, 'James Marsh': 1, 'Gary Shore': 1, 'Paul King': 1, 'James DeMonaco': 1, 'Vic Armstrong': 1, 'R.J. Cutler': 1, 'Trish Sie': 1, 'Josh Boone': 1, 'JosÃ© Padilha': 1, 'Wally Pfister': 1, 'Angelina Jolie': 1, 'Ava DuVernay': 1, 'Michael Hoffman': 1, 'Theodore Melfi': 1, 'Graham Annable': 1, 'Brian A Miller': 1, 'Roberts Gannaway': 1, 'Sam Miller': 1, 'David MichÃ´d': 1, 'Saul Dibb': 1, 'John R. Leonetti': 1, 'Tom Gormican': 1, 'Ben Falcone': 1, 'Akiva Goldsman': 1, 'Adam Wingard': 1, 'Russell Crowe': 1, 'Jonathan Glazer': 1, 'Rob Thomas': 1, 'Christopher Spencer': 1, 'GrÃ©gory Levasseur': 1, 'Michael Cuesta': 1, 'Andrew Erwin': 1, 'Jon Erwin': 1, 'Dave Green': 1, 'Don McKellar': 1, 'Harold Cronk': 1, 'Matt Bettinelli-Olpin': 1, 'Tyler Gillett': 1, 'Patrick Tatopoulos': 1, 'Bob Peterson': 1, 'Shane Acker': 1, 'Richard Kelly': 1, 'Hoyt Yeatman': 1, 'Ricky Gervais': 1, 'Matthew Robinson': 1, 'Jaco Van Dormael': 1, 'Peter Billingsley': 1, 'Atom Egoyan': 1, 'Phil Traill': 1, 'Brandon Camp': 1, 'Rajkumar Hirani': 1, 'Grant Heslov': 1, 'Todd Graff': 1, 'Jorge Blanco': 1, 'Javier Abad': 1, 'Marcos MartÃ\\xadnez': 1, 'Troy Duffy': 1, 'John Schultz': 1, 'Olatunde Osunsanmi': 1, 'Jane Campion': 1, 'Mike Judge': 1, 'Daniel Barber': 1, 'Steve Shill': 1, 'Jonas Elmer': 1, 'Derrick Borte': 1, 'Toby Wilkins': 1, 'Nathan Greno': 1, 'Florian Henckel von Donnersmarck': 1, 'Ethan Maniquis': 1, 'Miguel Sapochnik': 1, 'Ryan Murphy': 1, 'Anand Tucker': 1, 'Alan Poul': 1, 'Josh Gordon': 1, 'Will Speck': 1, 'Floria Sigismondi': 1, 'Troy Nixey': 1, 'Samuel Bayer': 1, 'Susanna White': 1, 'Steve Antin': 1, 'Nanette Burstein': 1, 'Greg Berlanti': 1, 'John Curran': 1, 'Tony Goldwyn': 1, 'Colin Strause': 1, 'Greg Strause': 1, 'Jorma Taccone': 1, 'Jim Field Smith': 1, 'William Monahan': 1, 'Dan Rush': 1, 'Anthony Bell': 1, 'Ben Gluck': 1, 'Richard J. Lewis': 1, 'William Dear': 1, 'Sngmoo Lee': 1, 'John Landis': 1, 'Vipul Amrutlal Shah': 1, 'David Lynch': 1, 'Sharon Maguire': 1, 'Gary Trousdale': 1, 'Kirk Wise': 1, 'J.B. Rogers': 1, 'Ted Demme': 1, 'Joel Gallen': 1, 'Lawrence Guterman': 1, 'Chris Nahon': 1, 'Hironobu Sakaguchi': 1, 'Motonori Sakakibara': 1, 'Michael Cristofer': 1, 'Jerry Zucker': 1, 'Robert Altman': 1, 'James Isaac': 1, 'Stephen Herek': 1, 'Simon Wincer': 1, 'Daniel Sackheim': 1, 'John Herzfeld': 1, 'Dennie Gordon': 1, 'John Boorman': 1, \"Pat O'Connor\": 1, 'Gregory Poirier': 1, 'Demian Lichtenstein': 1, 'John Carpenter': 1, 'Penny Marshall': 1, 'Brendan Malloy': 1, 'Emmett Malloy': 1, 'Les Mayfield': 1, 'Harold Becker': 1, 'Rob Pritts': 1, 'Peter Bogdanovich': 1, 'Francine McDougall': 1, 'Ernest R. Dickerson': 1, 'DJ Pooh': 1, 'John Stevenson': 1, 'Loveleen Tandan': 1, 'Mark Herman': 1, 'Jeff Wadlow': 1, 'Lexi Alexander': 1, 'Peter Sollett': 1, 'Fred Wolf': 1, 'David Hackl': 1, 'Marco Schnabel': 1, 'Bryan Bertino': 1, 'Howard McCain': 1, 'Chris Carter': 1, 'John Patrick Shanley': 1, 'Paul Weiland': 1, 'Marcel Langenegger': 1, 'David Moreau': 1, 'Xavier Palud': 1, 'Oxide Pang Chun': 1, 'Danny Pang': 1, 'Peter Cattaneo': 1, 'Robert Stevenhagen': 1, 'Craig Mazin': 1, 'Michael McCullers': 1, 'RyÃ»hei Kitamura': 1, 'Simon Hunter': 1, 'Jennifer Flackett': 1, 'Mark Levin': 1, 'Anthony Leondis': 1, 'Robert B. Weide': 1, 'Nicolas Winding Refn': 1, 'Jennifer Yuh': 1, 'Brad Lewis': 1, 'Terrence Malick': 1, 'Michel Hazanavicius': 1, 'Gary McKendry': 1, 'Stephen Anderson': 1, 'George Nolfi': 1, 'Tom Hanks': 1, 'Mark Mylod': 1, 'Chris Gorak': 1, 'Tate Taylor': 1, 'Christian E. Christiansen': 1, 'Oliver Parker': 1, 'Todd Strauss-Schulson': 1, 'Matthijs van Heijningen Jr.': 1, 'Gonzalo LÃ³pez-Gallego': 1, 'Joe Cornish': 1, 'Bruce Robinson': 1, 'John Michael McDonagh': 1, 'Jesse Peretz': 1, 'Jason Winer': 1, 'Alister Grierson': 1, 'Douglas McGrath': 1, 'Sean McNamara': 1, 'Mike Disa': 1, 'Benny Chan': 1, 'Thomas Bezucha': 1, 'Paul Johansson': 1, 'Paolo Sorrentino': 1, 'Rodrigo GarcÃ\\xada': 1, 'Mark Duplass': 1, 'Jay Duplass': 1, 'Corey Yuen Kwai': 1, 'Curtis Hanson': 1, 'Joel Zwick': 1, 'Stuart Baird': 1, 'Kurt Wimmer': 1, 'Steve Beck': 1, 'Lorna Cook': 1, 'Jim Gillespie': 1, 'Chuck Russell': 1, 'Julie Taymor': 1, 'Barbet Schroeder': 1, 'Ron Shelton': 1, 'Adrian Lyne': 1, 'Michael Rymer': 1, 'Marcus Raboy': 1, 'Robin Budd': 1, 'Donovan Cook': 1, 'Dewey Nicks': 1, 'Mark Pellington': 1, 'Jonathan Frakes': 1, 'Rick Rosenthal': 1, 'Mort Nathan': 1, 'Tamra Davis': 1, 'Ron Underwood': 1, 'Kevin Bray': 1, 'William Malone': 1, 'Paul Schrader': 1, 'MÃ¥ns MÃ¥rlind': 1, 'BjÃ¶rn Stein': 1, 'Mark Andrews': 1, 'Steve Purcell': 1, 'Brenda Chapman': 1, 'Rupert Sanders': 1, 'Mike Thurmeier': 1, 'Juan Antonio Bayona': 1, 'Rich Moore': 1, 'Stephen Chbosky': 1, 'Drew Goddard': 1, 'Peter Ramsey': 1, 'Michael Sucsy': 1, 'Juan Diego Solanas': 1, 'Scott Speer': 1, 'Mike McCoy': 1, 'Nima Nourizadeh': 1, 'Jeff Newitt': 1, 'Stephen St. Leger': 1, 'James Mather': 1, 'James Watkins': 1, 'Asger Leth': 1, 'Henry Alex Rubin': 1, 'Alex Kurtzman': 1, 'John Gulager': 1, 'Ole Bornedal': 1, 'Mabrouk El Mechri': 1, 'Nicholas Jarecki': 1, 'Dan Bradley': 1, 'Julie Anne Robinson': 1, 'Dustin Hoffman': 1, 'Chris Butler': 1, 'Dean Wright': 1, 'Anthony Hemingway': 1, 'Josh Schwartz': 1, 'Brian Klugman': 1, 'Lee Sternthal': 1, 'David Barrett': 1, 'Todd Lincoln ': 1, 'Dan Cutforth': 1, 'Jane Lipsitz': 1, 'Stephen Norrington': 1, 'Steve Trenbirth': 1, 'Terry Zwigoff': 1, 'Jan de Bont': 1, 'Rob Schmidt': 1, 'Jon Amiel': 1, 'Charles Herman-Wurmfeld': 1, 'Anthony Minghella': 1, 'Ronny Yu': 1, 'Joe Dante': 1, 'John McTiernan': 1, 'Kevin Costner': 1, 'Jim Fall': 1, 'Lawrence Kasdan': 1, 'Patty Jenkins': 1, 'Martin Brest': 1, 'Ronald F. Maxwell': 1, 'Troy Miller': 1, 'Alan Parker': 1, 'Chris Koch': 1, 'David Mackenzie': 1, 'FranÃ§ois Ozon': 1, 'Christopher Guest': 1, 'James Cox': 1, 'Christine Jeffs': 1, 'Jennifer Lee': 1, 'Shane Black': 1, 'Steve McQueen': 1, 'Dan Scanlon': 1, 'Tommy Wirkola': 1, 'Carl Rinsch': 1, 'Klay Hall': 1, 'Harmony Korine': 1, 'Fede Alvarez': 1, 'Derek Cianfrance': 1, 'Kimberly Peirce': 1, 'John Carney': 1, 'Justin Zackham': 1, 'Mike Flanagan': 1, 'David Soren': 1, 'Steven Knight': 1, 'Andy Muschietti': 1, 'Rusty Cundieff': 1, 'James Duffy': 1, 'Griffin Dunne': 1, 'Patrik Forsberg': 1, 'Will Graham': 1, 'Jonathan van Tulleken': 1, 'Scott Moore': 1, 'Jon Lucas': 1, 'Callan Brunker': 1, 'Amma Asante': 1, 'Dito Montiel': 1, 'Cody Cameron': 1, 'Kris Pearn': 1, 'Giuseppe Tornatore': 1, 'Don Scardino': 1, 'Jeff Nichols': 1, 'Jonathan Teplitzky': 1, 'Neil Nightingale': 1, 'Barry Cook': 1, 'Scott Walker': 1, 'Guillaume Canet': 1, 'Ric Roman Waugh': 1, 'Keanu Reeves': 1, 'David E. Talbert': 1, 'Christopher B. Landon': 1, 'Benson Lee': 1, 'Anthony Silverston': 1, 'Kasi Lemmons': 1, 'Dan St. Pierre': 1, 'Zal Batmanglij': 1, 'Ed Gass-Donnelly': 1, 'Justin Chadwick': 1, 'Fyodor Bondarchuk': 1, 'Garth Jennings': 1, 'Mike Johnson': 1, 'Steve Box': 1, 'John Maybury': 1, 'Angela Robinson': 1, 'Cory Edwards': 1, 'Todd Edwards': 1, 'Tony Leech': 1, 'John Polson': 1, 'Sydney Pollack': 1, 'Terry Gilliam': 1, 'Florent-Emilio Siri': 1, 'Frederik Du Chau': 1, 'Andrew Douglas': 1, 'Dean Parisot': 1, 'Jean-FranÃ§ois Richet': 1, 'Jim Jarmusch': 1, 'George A. Romero': 1, 'Rupert Wainwright': 1, 'Clare Kilner': 1, 'Richard Shepard': 1, 'Gary Chapman': 1, 'Fernando Meirelles': 1, 'Tommy Lee Jones': 1, 'Danny Cannon': 1, 'Liev Schreiber': 1, 'Stephen Kay': 1, 'Bruce Hunt': 1, 'Niki Caro': 1, 'Joe Ranft': 1, 'Karey Kirkpatrick': 1, 'Frank Marshall': 1, 'Christophe Gans': 1, \"Steve 'Spaz' Williams\": 1, 'Stefen Fangmeier': 1, 'Alejandro Agresti': 1, 'Robert De Niro': 1, 'Kevin Reynolds': 1, \"Matthew O'Callaghan\": 1, 'Steven Zaillian': 1, 'Joe Roth': 1, 'Jared Hess': 1, 'Steven Shainberg': 1, 'Jonathan Dayton': 1, 'Valerie Faris': 1, 'Greg Coolidge': 1, 'Roger Allers': 1, 'Jill Culton': 1, 'Steve Oedekerk': 1, 'Chris Noonan': 1, 'Jim Sonzero': 1, 'John Bonito': 1, 'Liz Friedlander': 1, 'Elizabeth Allen Rosenbaum': 1, 'Richard Eyre': 1, 'Tony Bill': 1, 'Wayne Kramer': 1, 'Susannah Grant': 1, 'Liam Lynch': 1, 'Sanjay Gadhvi': 1, 'Glen Morgan': 1, 'Phil Joanou': 1, 'Rachid Bouchareb': 1, 'William Brent Bell': 1, 'Asif Kapadia': 1, 'Doug Atchison': 1, 'Beeban Kidron': 1, 'Eric Bress': 1, 'J. Mackye Gruber': 1, 'Alexander Witt': 1, 'Kerry Conran': 1, 'Stephen Hillenburg': 1, \"Tommy O'Haver\": 1, 'Mark Rosman': 1, 'Rawson Marshall Thurber': 1, 'Jeff Schaffer': 1, 'Jonathan Hensleigh': 1, 'Pitof': 1, 'Don Mancini': 1, 'Charles Shyer': 1, 'Will Finn': 1, 'John Sanford': 1, 'Terry George': 1, 'Trey Parker': 1, 'Sara Sugarman': 1, 'Guy Ferland': 1, 'Joseph Ruben': 1, 'Nick Hamm': 1, 'Paul Abascal': 1, 'Joseph Kahn': 1, \"Gavin O'Connor\": 1, 'E. Elias Merhige': 1, 'George Armitage': 1, 'David Mamet': 1, 'Kevin Allen': 1, 'Christopher Erskin': 1, 'Jan Pinkava': 1, 'Sean Penn': 1, 'Raman Hui': 1, 'Steve Hickner': 1, 'Stephen J. Anderson': 1, 'Juan Carlos Fresnadillo': 1, 'Steve Bendelack': 1, 'Bruce A. Evans': 1, 'Kirsten Sheridan': 1, 'Joby Harold': 1, 'Philip G. Atwell': 1, 'Mennan Yapo': 1, 'Michael Davis': 1, 'Ash Brannon': 1, 'Xavier Gens': 1, 'Jason Eisener': 1, 'David Schwimmer': 1, 'Dave Meyers': 1, 'Chris Sivertson': 1, 'Michael Haneke': 1, 'Sidney Lumet': 1, 'Fred Savage': 1, 'Russell Mulcahy': 1, 'Michael Winterbottom': 1, 'Stephen Hopkins': 1, 'James Foley': 1, 'Mark Helfrich': 1, 'Jon Kasdan': 1, 'Shari Springer Berman': 1, 'Robert Pulcini': 1, 'James Gray': 1, 'Peter Hedges': 1, 'Roland JoffÃ©': 1, 'Amy Heckerling': 1, 'Susanne Bier': 1, 'Alastair Fothergill': 1, 'Mark Linfield': 1, 'Doug Lefler': 1, 'Wong Kar-wai': 1, 'Sylvain White': 1, 'David Leland': 1, 'Chris Rock': 1, 'Peter Webber': 1, 'Feng Xiaogang': 1, 'Ben Garant': 1, 'Ralph Zondag': 1, 'Eric Leighton': 1, 'David McNally': 1, 'Ben Younger': 1, 'Don Michael Paul': 1, 'Mimi Leder': 1, 'Paul Verhoeven': 1, 'Mary Harron': 1, 'Lars von Trier': 1, 'Roger Spottiswoode': 1, 'Antony Hoffman': 1, 'Stephen T. Kay': 1, 'Don Bluth': 1, 'Gary Goldman': 1, 'John Frankenheimer': 1, 'Edward Norton': 1, 'Jack Sholder': 1, 'Christian Duguay': 1, 'David Raynr': 1, 'Douglas Aarniokoski': 1, 'Davis Guggenheim': 1, 'Bonnie Hunt': 1, 'Uli Edel': 1, 'Des McAnuff': 1, 'Diane Keaton': 1, 'Mary Lambert': 1})\n"
     ]
    }
   ],
   "source": [
    "#13\n",
    "import pandas as pd\n",
    "import collections\n",
    "c = collections.Counter()\n",
    "data = pd.read_csv('data.csv')\n",
    "director = data.director.str.split('|').sum()\n",
    "for d in director:\n",
    "    c[d] += 1\n",
    "print(c)"
   ]
  },
  {
   "cell_type": "code",
   "execution_count": 92,
   "metadata": {},
   "outputs": [
    {
     "name": "stdout",
     "output_type": "stream",
     "text": [
      "Counter({'Ridley Scott': 12, 'Steven Spielberg': 10, 'Clint Eastwood': 10, 'Steven Soderbergh': 10, 'Shawn Levy': 9, 'Tim Burton': 9, 'Antoine Fuqua': 8, 'Christopher Nolan': 8, 'Peter Jackson': 8, 'Michael Bay': 8, 'Brett Ratner': 8, 'Peter Farrelly': 8, 'Robert Rodriguez': 8, 'M. Night Shyamalan': 7, 'Bobby Farrelly': 7, 'Todd Phillips': 7, 'Adam Shankman': 7, 'Quentin Tarantino': 6, 'Francis Lawrence': 6, 'Adam McKay': 6, 'Robert Zemeckis': 6, 'Andy Fickman': 6, 'David Fincher': 6, 'Tim Story': 6, 'Zack Snyder': 6, 'Ron Howard': 6, 'Sam Raimi': 6, 'Joel Coen': 6, 'Louis Leterrier': 6, 'Dennis Dugan': 6, 'Paul W.S. Anderson': 6, 'Gore Verbinski': 6, 'Peter Segal': 6, 'Raja Gosnell': 6, 'J.J. Abrams': 5, 'Sam Mendes': 5, 'Jaume Collet-Serra': 5, 'F. Gary Gray': 5, 'Guy Ritchie': 5, 'Nancy Meyers': 5, 'Guillermo del Toro': 5, 'Bryan Singer': 5, 'Doug Liman': 5, 'Jon Favreau': 5, 'Carlos Saldanha': 5, 'Lasse HallstrÃ¶m': 5, 'Roland Emmerich': 5, 'Robert Luketic': 5, 'Steve Carr': 5, 'Tony Scott': 5, 'Martin Scorsese': 5, 'Danny Boyle': 5, 'Jon Turteltaub': 5, 'James Mangold': 5, 'Oliver Stone': 5, 'John Singleton': 5, 'Marc Forster': 5, 'Peter Berg': 5, 'Alejandro GonzÃ¡lez IÃ±Ã¡rritu': 4, 'Lana Wachowski': 4, 'Lilly Wachowski': 4, 'Chris Columbus': 4, 'Olivier Megaton': 4, 'Peyton Reed': 4, 'Brad Bird': 4, 'Matthew Vaughn': 4, 'Rob Letterman': 4, 'Tarsem Singh': 4, 'Judd Apatow': 4, 'John Erick Dowdle': 4, 'Boaz Yakin': 4, 'Anne Fletcher': 4, 'Ken Kwapis': 4, 'Wes Anderson': 4, 'Phil Lord': 4, 'Christopher Miller': 4, 'Luke Greenfield': 4, 'Eric Darnell': 4, 'Rob Marshall': 4, 'David Dobkin': 4, 'Nicholas Stoller': 4, 'Nick Cassavetes': 4, 'Rob Minkoff': 4, 'George Clooney': 4, 'David Yates': 4, 'David R. Ellis': 4, 'Ethan Coen': 4, 'David Twohy': 4, 'Jason Reitman': 4, 'Justin Lin': 4, 'Donald Petrie': 4, 'Tom McGrath': 4, 'Edward Zwick': 4, 'Andy Tennant': 4, 'Garry Marshall': 4, 'Jason Friedberg': 4, 'Aaron Seltzer': 4, 'Kevin Smith': 4, 'Jay Roach': 4, 'Andrew Adamson': 4, 'Simon West': 4, 'Keenen Ivory Wayans': 4, 'John Moore': 4, 'Rob Cohen': 4, 'D.J. Caruso': 4, 'Mark Waters': 4, 'Malcolm D. Lee': 4, 'Martin Campbell': 4, 'Mikael HÃ¥fstrÃ¶m': 4, 'Alexander Payne': 4, 'Len Wiseman': 4, 'Paul Greengrass': 4, 'George Miller': 3, 'Robert Schwentke': 3, 'James Wan': 3, 'Pierre Coffin': 3, 'Pete Docter': 3, 'Brad Peyton': 3, 'Neill Blomkamp': 3, 'Baltasar KormÃ¡kur': 3, 'Tom Hooper': 3, 'Paul Feig': 3, 'Gavin Hood': 3, 'Brian Helgeland': 3, 'Steve Martino': 3, 'Jonathan Levine': 3, 'David Ayer': 3, 'Neil Burger': 3, 'Jonathan Liebesman': 3, 'Matt Reeves': 3, 'Marc Webb': 3, 'Dean DeBlois': 3, 'Darren Aronofsky': 3, 'Frank Coraci': 3, 'Will Gluck': 3, 'Steve Pink': 3, 'Thomas Carter': 3, 'Randall Wallace': 3, 'McG': 3, 'John Lee Hancock': 3, 'Ruben Fleischer': 3, 'Chris Weitz': 3, 'Stephen Sommers': 3, 'Mark Neveldine': 3, 'Brian Taylor': 3, 'Conrad Vernon': 3, 'Michael Mann': 3, 'Kevin Macdonald': 3, 'James McTeigue': 3, 'NimrÃ³d Antal': 3, 'Tom Tykwer': 3, 'Rob Zombie': 3, 'Peter Chelsom': 3, 'Greg Mottola': 3, 'Jonathan Mostow': 3, 'Thor Freudenthal': 3, 'Marc Lawrence': 3, 'Chris Renaud': 3, 'Sylvester Stallone': 3, 'Chris Sanders': 3, 'Lee Unkrich': 3, 'Paul Weitz': 3, 'Mike Mitchell': 3, 'Joe Carnahan': 3, 'Ben Affleck': 3, 'Jon M. Chu': 3, 'Harald Zwart': 3, 'Roman Polanski': 3, 'Paul Haggis': 3, 'Alexandre Aja': 3, 'Tyler Perry': 3, 'Ben Stiller': 3, 'Dominic Sena': 3, 'Gary Fleder': 3, 'Brian Robbins': 3, 'Andrzej Bartkowiak': 3, 'Jesse Dylan': 3, 'Tim Hill': 3, 'Joe Johnston': 3, 'Andrew Stanton': 3, 'David Frankel': 3, 'Seth Gordon': 3, 'Woody Allen': 3, 'Bill Condon': 3, 'Wes Craven': 3, 'Stephen Daldry': 3, 'Joe Wright': 3, 'Kelly Asbury': 3, 'David Cronenberg': 3, 'Chris Wedge': 3, 'Barry Sonnenfeld': 3, 'Steven Brill': 3, 'Joel Schumacher': 3, 'Jeff Tremaine': 3, 'Ang Lee': 3, 'Stephen Frears': 3, 'Wolfgang Petersen': 3, 'Alan Taylor': 2, 'Kyle Balda': 2, 'Joss Whedon': 2, 'Kenneth Branagh': 2, 'Christopher McQuarrie': 2, 'Seth MacFarlane': 2, 'Wes Ball': 2, 'Elizabeth Banks': 2, 'Breck Eisner': 2, 'Tim Johnson': 2, 'Todd Haynes': 2, 'John Wells': 2, 'Denis Villeneuve': 2, 'Josh Trank': 2, 'Glenn Ficarra': 2, 'John Requa': 2, 'George Tillman, Jr.': 2, 'Genndy Tartakovsky': 2, 'Jessie Nelson': 2, 'Gil Kenan': 2, 'Sean Anders': 2, 'Mark Osborne': 2, 'Scott Cooper': 2, 'Simon Curtis': 2, 'Jason Moore': 2, 'Camille Delamarre': 2, 'Jonathan Demme': 2, 'Mike Binder': 2, 'James Gunn': 2, 'Joe Russo': 2, 'Anthony Russo': 2, 'Chris Williams': 2, 'Luc Besson': 2, 'Jake Kasdan': 2, 'Simon J. Smith': 2, 'Noam Murro': 2, 'Phillip Noyce': 2, 'Scott Waugh': 2, 'Anthony Stacchi': 2, 'Steven Quale': 2, 'Shana Feste': 2, 'Miguel Arteta': 2, 'Craig Gillespie': 2, 'Charles Martin Smith': 2, 'James Bobin': 2, 'Rupert Wyatt': 2, 'James Cameron': 2, 'Burr Steers': 2, 'Alex Proyas': 2, 'Duncan Jones': 2, 'P.J. Hogan': 2, 'Jim Sheridan': 2, 'Nora Ephron': 2, 'Betty Thomas': 2, 'Gary Winick': 2, 'Lee Daniels': 2, 'David S. Goyer': 2, 'John Hamburg': 2, 'Paul McGuigan': 2, 'Kevin Greutert': 2, 'Harold Ramis': 2, 'Patrick Lussier': 2, 'Walt Becker': 2, 'Lone Scherfig': 2, 'Marcus Nispel': 2, 'Joseph Kosinski': 2, 'Byron Howard': 2, 'Michael Apted': 2, 'Mike Newell': 2, 'Albert Hughes': 2, 'Allen Hughes': 2, 'David Slade': 2, 'Scott Stewart': 2, 'Michael Patrick King': 2, 'John Luessenhop': 2, 'Roger Michell': 2, 'Michael Lembeck': 2, 'John Madden': 2, 'Brian Levant': 2, 'Neil LaBute': 2, 'Tom Dey': 2, 'Eric Brevig': 2, 'Roger Kumble': 2, 'David Silverman': 2, 'Vicky Jenson': 2, 'Baz Luhrmann': 2, 'John A. Davis': 2, 'Cameron Crowe': 2, 'Victor Salva': 2, 'Lee Tamahori': 2, 'Iain Softley': 2, 'Ivan Reitman': 2, 'Frank Oz': 2, 'John Stockwell': 2, 'Catherine Hardwicke': 2, 'Phyllida Lloyd': 2, 'Timur Bekmambetov': 2, 'Kathryn Bigelow': 2, 'Scott Derrickson': 2, 'Gabriele Muccino': 2, 'David Gordon Green': 2, 'Mathieu Kassovitz': 2, 'Martin McDonagh': 2, 'Jon Hurwitz': 2, 'Hayden Schlossberg': 2, 'Jimmy Hayward': 2, 'Gus Van Sant': 2, 'Gina Prince-Bythewood': 2, 'Kirk De Micco': 2, 'Andrew Niccol': 2, 'John Lasseter': 2, 'Brad Furman': 2, 'Bennett Miller': 2, 'Chris Miller': 2, 'Michel Gondry': 2, 'David Bowers': 2, 'Craig Brewer': 2, 'Henry Joost': 2, 'Ariel Schulman': 2, 'John Whitesell': 2, 'Salim Akil': 2, 'George Lucas': 2, 'Wayne Wang': 2, 'Spike Jonze': 2, 'Carl Franklin': 2, 'Denzel Washington': 2, 'Tony Gilroy': 2, 'David O. Russell': 2, 'Gary Ross': 2, 'Kirk Jones': 2, 'Larry Charles': 2, 'Peter Lord': 2, 'Mark Steven Johnson': 2, 'David Zucker': 2, 'Bille Woodruff': 2, 'Richard Linklater': 2, 'Clark Johnson': 2, 'John Woo': 2, 'Nigel Cole': 2, 'Chris Buck': 2, 'Alfonso CuarÃ³n': 2, 'Brad Anderson': 2, 'Taylor Hackford': 2, 'Sofia Coppola': 2, 'Mark Dindal': 2, 'Nick Park': 2, 'Rob Reiner': 2, 'Kevin Rodney Sullivan': 2, 'James Wong': 2, 'Mel Gibson': 2, 'Darren Lynn Bousman': 2, 'Takashi Shimizu': 2, 'Richard Loncraine': 2, 'Danny Leiner': 2, 'Mike Nichols': 2, 'Michael Moore': 2, 'Jay Russell': 2, 'Richard LaGravenese': 2, 'Kevin Lima': 2, 'Colin Trevorrow': 1, 'Alex Garland': 1, 'Sam Taylor-Johnson': 1, 'Tom McCarthy': 1, 'Lenny Abrahamson': 1, 'Peter Sohn': 1, 'John Crowley': 1, 'Lee Toland Krieger': 1, 'Ilya Naishuller': 1, 'Jake Schreier': 1, 'Ericson Core': 1, 'Aleksander Bach': 1, 'Ryan Coogler': 1, 'Peter Landesman': 1, 'John Francis Daley': 1, 'Jonathan M. Goldstein': 1, 'Joel Edgerton': 1, 'Jocelyn Moorhouse': 1, 'Ari Sandel': 1, 'Ciaran Foy': 1, 'Doug Ellin': 1, 'Jeremy Garelick': 1, 'Michael Dougherty': 1, 'Dean Israelite': 1, 'Gregory Jacobs': 1, 'Gregory Plotkin': 1, 'Billy Ray': 1, 'Paul Tibbitt': 1, 'Leigh Whannell': 1, 'Nicholas Hytner': 1, 'David M. Rosenthal': 1, 'Etan Cohen': 1, 'Sarah Gavron': 1, 'Max Joseph': 1, 'Chad Stahelski': 1, 'David Leitch': 1, 'Don Hall': 1, 'Morten Tyldum': 1, 'Dan Gilroy': 1, 'Gareth Edwards': 1, 'Robert Stromberg': 1, 'Roger Donaldson': 1, 'Stiles White': 1, 'Patrick Hughes': 1, 'Sergey Bodrov': 1, 'James Marsh': 1, 'Gary Shore': 1, 'Scott Frank': 1, 'Paul King': 1, 'James DeMonaco': 1, 'Vic Armstrong': 1, 'R.J. Cutler': 1, 'Trish Sie': 1, 'Josh Boone': 1, 'JosÃ© Padilha': 1, 'Wally Pfister': 1, 'Angelina Jolie': 1, 'Ava DuVernay': 1, 'Michael Hoffman': 1, 'Theodore Melfi': 1, 'Graham Annable': 1, 'Brian A Miller': 1, 'Roberts Gannaway': 1, 'Sam Miller': 1, 'John R. Leonetti': 1, 'Stuart Beattie': 1, 'Tom Gormican': 1, 'Ben Falcone': 1, 'Christopher Spencer': 1, 'GrÃ©gory Levasseur': 1, 'Andrew Erwin': 1, 'Jon Erwin': 1, 'Dave Green': 1, 'Harold Cronk': 1, 'Matt Bettinelli-Olpin': 1, 'Tyler Gillett': 1, 'Patrick Tatopoulos': 1, 'Bob Peterson': 1, 'Shane Acker': 1, 'Ron Clements': 1, 'John Musker': 1, 'Henry Selick': 1, 'Richard Kelly': 1, 'Hoyt Yeatman': 1, 'Ricky Gervais': 1, 'Matthew Robinson': 1, 'Peter Billingsley': 1, 'Karyn Kusama': 1, 'Phil Traill': 1, 'Christian Alvart': 1, 'Michael Spierig': 1, 'Peter Spierig': 1, 'Brandon Camp': 1, 'Rajkumar Hirani': 1, 'Grant Heslov': 1, 'Jorge Blanco': 1, 'Javier Abad': 1, 'Marcos MartÃ\\xadnez': 1, 'Troy Duffy': 1, 'John Schultz': 1, 'Olatunde Osunsanmi': 1, 'Mike Judge': 1, 'Daniel Barber': 1, 'Steve Shill': 1, 'Jonas Elmer': 1, 'Stewart Hendler': 1, 'Toby Wilkins': 1, 'Nathan Greno': 1, 'Florian Henckel von Donnersmarck': 1, 'Ethan Maniquis': 1, 'Ryan Murphy': 1, 'Anand Tucker': 1, 'Alan Poul': 1, 'Josh Gordon': 1, 'Will Speck': 1, 'Troy Nixey': 1, 'Samuel Bayer': 1, 'Susanna White': 1, 'Steve Antin': 1, 'Nanette Burstein': 1, 'Greg Berlanti': 1, 'Colin Strause': 1, 'Greg Strause': 1, 'Jim Field Smith': 1, 'Anthony Bell': 1, 'Ben Gluck': 1, 'David Lynch': 1, 'Sharon Maguire': 1, 'Gary Trousdale': 1, 'Kirk Wise': 1, 'J.B. Rogers': 1, 'Ted Demme': 1, 'Jean-Jacques Annaud': 1, 'Joel Gallen': 1, 'Alejandro AmenÃ¡bar': 1, 'Lawrence Guterman': 1, 'Chris Nahon': 1, 'Jerry Zucker': 1, 'Robert Altman': 1, 'James Isaac': 1, 'John Dahl': 1, 'Simon Wincer': 1, 'Bill Paxton': 1, 'Dennie Gordon': 1, 'John Boorman': 1, \"Pat O'Connor\": 1, 'Gregory Poirier': 1, 'Rob Pritts': 1, 'Francine McDougall': 1, 'DJ Pooh': 1, 'Pierre Morel': 1, 'John Stevenson': 1, 'Loveleen Tandan': 1, 'Tom Vaughan': 1, 'Mark Herman': 1, 'Jeff Wadlow': 1, 'Pete Travis': 1, 'David Wain': 1, 'Peter Sollett': 1, 'Fred Wolf': 1, 'David Hackl': 1, 'Jon Avnet': 1, 'Bryan Bertino': 1, 'Chris Carter': 1, 'John Patrick Shanley': 1, 'Paul Weiland': 1, 'David Moreau': 1, 'Xavier Palud': 1, 'Michael McCullers': 1, 'Howard Deutch': 1, 'Jennifer Flackett': 1, 'Mark Levin': 1, 'Anthony Leondis': 1, 'Nicolas Winding Refn': 1, 'Jennifer Yuh': 1, 'Brad Lewis': 1, 'Terrence Malick': 1, 'Michel Hazanavicius': 1, 'George Nolfi': 1, 'Tom Hanks': 1, 'Mark Mylod': 1, 'Chris Gorak': 1, 'Tate Taylor': 1, 'Christian E. Christiansen': 1, 'Oliver Parker': 1, 'Daniel Barnz': 1, 'Todd Strauss-Schulson': 1, 'Gonzalo LÃ³pez-Gallego': 1, 'John Michael McDonagh': 1, 'Jesse Peretz': 1, 'Jason Winer': 1, 'Alister Grierson': 1, 'Douglas McGrath': 1, 'Sean McNamara': 1, 'Joe Nussbaum': 1, 'Benny Chan': 1, 'Corey Yuen Kwai': 1, 'Curtis Hanson': 1, 'Joel Zwick': 1, 'Stuart Baird': 1, 'Steve Beck': 1, 'Lorna Cook': 1, 'Chuck Russell': 1, 'Julie Taymor': 1, 'Barbet Schroeder': 1, 'Simon Wells': 1, 'Adrian Lyne': 1, 'Michael Rymer': 1, 'Marcus Raboy': 1, 'Robin Budd': 1, 'Donovan Cook': 1, 'Mark Romanek': 1, 'Mark Pellington': 1, 'Jonathan Frakes': 1, 'Rick Rosenthal': 1, 'Tamra Davis': 1, 'Charles Stone III': 1, 'Kevin Bray': 1, 'MÃ¥ns MÃ¥rlind': 1, 'BjÃ¶rn Stein': 1, 'Mark Andrews': 1, 'Steve Purcell': 1, 'Brenda Chapman': 1, 'Rupert Sanders': 1, 'Mike Thurmeier': 1, 'Juan Antonio Bayona': 1, 'Rich Moore': 1, 'Stephen Chbosky': 1, 'Drew Goddard': 1, 'Peter Ramsey': 1, 'Michael Sucsy': 1, 'Rian Johnson': 1, 'Scott Speer': 1, 'Mike McCoy': 1, 'Nima Nourizadeh': 1, 'John Hillcoat': 1, 'Jeff Newitt': 1, 'Stephen St. Leger': 1, 'James Mather': 1, 'James Watkins': 1, 'Daniel Espinosa': 1, 'Asger Leth': 1, 'John Gulager': 1, 'Ole Bornedal': 1, 'Michael J. Bassett': 1, 'Andrew Dominik': 1, 'Nicholas Jarecki': 1, 'Dustin Hoffman': 1, 'Sam Fell': 1, 'Chris Butler': 1, 'Brian Klugman': 1, 'Lee Sternthal': 1, 'Dan Cutforth': 1, 'Jane Lipsitz': 1, 'Tom Shadyac': 1, 'Richard Curtis': 1, 'Stephen Norrington': 1, 'Steve Trenbirth': 1, 'Terry Zwigoff': 1, 'Peter Howitt': 1, 'Jan de Bont': 1, 'Rob Schmidt': 1, 'Peter Weir': 1, 'Jon Amiel': 1, 'Charles Herman-Wurmfeld': 1, 'Anthony Minghella': 1, 'Ronny Yu': 1, 'Kevin Costner': 1, 'Jim Fall': 1, 'Lawrence Kasdan': 1, 'Patty Jenkins': 1, 'Troy Miller': 1, 'Uwe Boll': 1, 'Mike Tollin': 1, 'FranÃ§ois Ozon': 1, 'Christopher Guest': 1, 'Christine Jeffs': 1, 'Jennifer Lee': 1, 'Shane Black': 1, 'Steve McQueen': 1, 'Dan Scanlon': 1, 'Tommy Wirkola': 1, 'Jean-Marc VallÃ©e': 1, 'Klay Hall': 1, 'Harmony Korine': 1, 'Fede Alvarez': 1, 'Derek Cianfrance': 1, 'Kimberly Peirce': 1, 'John Carney': 1, 'Ken Scott': 1, 'Seth Rogen': 1, 'Evan Goldberg': 1, 'Mike Flanagan': 1, 'David Soren': 1, 'Andy Muschietti': 1, 'Rusty Cundieff': 1, 'James Duffy': 1, 'Griffin Dunne': 1, 'Patrik Forsberg': 1, 'Will Graham': 1, 'Jonathan van Tulleken': 1, 'Scott Moore': 1, 'Jon Lucas': 1, 'Callan Brunker': 1, 'Amma Asante': 1, 'Cody Cameron': 1, 'Kris Pearn': 1, 'Giuseppe Tornatore': 1, 'Jeff Nichols': 1, 'Jonathan Teplitzky': 1, 'Neil Nightingale': 1, 'Barry Cook': 1, 'Ric Roman Waugh': 1, 'David E. Talbert': 1, 'Christopher B. Landon': 1, 'Joshua Michael Stern': 1, 'Anthony Silverston': 1, 'Ed Gass-Donnelly': 1, 'Oliver Hirschbiegel': 1, 'Fyodor Bondarchuk': 1, 'Frank Miller': 1, 'Garth Jennings': 1, 'Rob Bowman': 1, 'Mike Johnson': 1, 'Steve Box': 1, 'Angela Robinson': 1, 'Cory Edwards': 1, 'Todd Edwards': 1, 'Tony Leech': 1, 'John Polson': 1, 'Sydney Pollack': 1, 'Terry Gilliam': 1, 'Florent-Emilio Siri': 1, 'Jay Chandrasekhar': 1, 'Stephen Gaghan': 1, 'Frederik Du Chau': 1, 'Andrew Douglas': 1, 'Dean Parisot': 1, 'Jean-FranÃ§ois Richet': 1, 'Jim Jarmusch': 1, 'George A. Romero': 1, 'Rupert Wainwright': 1, 'Clare Kilner': 1, 'Richard Shepard': 1, 'Fernando Meirelles': 1, 'Geoffrey Sax': 1, 'Stephen Kay': 1, 'Joe Ranft': 1, 'Spike Lee': 1, 'Karey Kirkpatrick': 1, 'Frank Marshall': 1, 'Christophe Gans': 1, 'Stefen Fangmeier': 1, 'Alejandro Agresti': 1, \"Matthew O'Callaghan\": 1, 'Jared Hess': 1, 'Jonathan Dayton': 1, 'Valerie Faris': 1, 'Greg Coolidge': 1, 'Roger Allers': 1, 'Jill Culton': 1, 'Steve Oedekerk': 1, 'Chris Noonan': 1, 'John Bonito': 1, 'Liz Friedlander': 1, 'Elizabeth Allen Rosenbaum': 1, 'Richard Donner': 1, 'Richard Eyre': 1, 'Barry Levinson': 1, 'Renny Harlin': 1, 'Sanjay Gadhvi': 1, 'Glen Morgan': 1, 'Phil Joanou': 1, 'Mira Nair': 1, 'Rachid Bouchareb': 1, 'William Brent Bell': 1, 'Doug Atchison': 1, 'Eric Bress': 1, 'J. Mackye Gruber': 1, 'Alexander Witt': 1, 'Brad Silberling': 1, 'Peter Hewitt': 1, 'Bibo Bergeron': 1, 'Stephen Hillenburg': 1, 'Mark Rosman': 1, 'Rawson Marshall Thurber': 1, 'Jonathan Hensleigh': 1, 'David Koepp': 1, 'Don Mancini': 1, 'Terry George': 1, 'Trey Parker': 1, 'Sara Sugarman': 1, 'Guy Ferland': 1, 'Joseph Ruben': 1, 'Nick Hamm': 1, 'Joseph Kahn': 1, \"Gavin O'Connor\": 1, 'Kevin Allen': 1, 'Christopher Erskin': 1, 'Jan Pinkava': 1, 'Frank Darabont': 1, 'Sean Penn': 1, 'GÃ¡bor CsupÃ³': 1, 'Paul Thomas Anderson': 1, 'Raman Hui': 1, 'Steve Hickner': 1, 'Stephen J. Anderson': 1, 'Kevin Munroe': 1, 'Juan Carlos Fresnadillo': 1, 'Steve Bendelack': 1, 'Bruce A. Evans': 1, 'Robert Redford': 1, 'Kirsten Sheridan': 1, 'Philip G. Atwell': 1, 'Mennan Yapo': 1, 'Scott Hicks': 1, 'Ash Brannon': 1, 'Xavier Gens': 1, 'David Schwimmer': 1, 'Eli Roth': 1, 'Dave Meyers': 1, 'Julian Jarrold': 1, 'Shekhar Kapur': 1, 'Sidney Lumet': 1, 'Fred Savage': 1, 'Russell Mulcahy': 1, 'Michael Winterbottom': 1, 'Stephen Hopkins': 1, 'James Foley': 1, 'Mark Helfrich': 1, 'Jon Kasdan': 1, 'Shari Springer Berman': 1, 'Robert Pulcini': 1, 'James Gray': 1, 'Peter Hedges': 1, 'Alastair Fothergill': 1, 'Mark Linfield': 1, 'Wong Kar-wai': 1, 'Sylvain White': 1, 'Chris Rock': 1, 'Peter Webber': 1, 'Feng Xiaogang': 1, 'Ben Garant': 1, 'Ralph Zondag': 1, 'Eric Leighton': 1, 'David McNally': 1, 'Ben Younger': 1, 'Gregory Hoblit': 1, 'Mimi Leder': 1, 'Paul Verhoeven': 1, 'Mary Harron': 1, 'Lars von Trier': 1, 'Roger Spottiswoode': 1, 'Jonathan Lynn': 1, 'William Friedkin': 1, 'Robert Iscove': 1, 'Edward Norton': 1, 'Bonnie Hunt': 1})\n"
     ]
    }
   ],
   "source": [
    "#14\n",
    "data = pd.read_csv('data.csv')\n",
    "data['profit'] = data.revenue - data.budget\n",
    "data = data[data['profit'] > 0]\n",
    "director = data.director.str.split('|').sum()\n",
    "c = collections.Counter()\n",
    "for d in director:\n",
    "    c[d] += 1\n",
    "print(c)"
   ]
  },
  {
   "cell_type": "code",
   "execution_count": 99,
   "metadata": {},
   "outputs": [
    {
     "data": {
      "text/plain": [
       "director\n",
       "Peter Jackson    5202593685\n",
       "Name: profit, dtype: int64"
      ]
     },
     "metadata": {},
     "output_type": "display_data"
    }
   ],
   "source": [
    "#15\n",
    "data['profit'] = data.revenue - data.budget\n",
    "grouped_df = data.groupby(['director']).sum()\n",
    "display(grouped_df.profit.sort_values(ascending=False).head(1))"
   ]
  },
  {
   "cell_type": "code",
   "execution_count": 98,
   "metadata": {},
   "outputs": [
    {
     "data": {
      "text/html": [
       "<div>\n",
       "<style scoped>\n",
       "    .dataframe tbody tr th:only-of-type {\n",
       "        vertical-align: middle;\n",
       "    }\n",
       "\n",
       "    .dataframe tbody tr th {\n",
       "        vertical-align: top;\n",
       "    }\n",
       "\n",
       "    .dataframe thead th {\n",
       "        text-align: right;\n",
       "    }\n",
       "</style>\n",
       "<table border=\"1\" class=\"dataframe\">\n",
       "  <thead>\n",
       "    <tr style=\"text-align: right;\">\n",
       "      <th></th>\n",
       "      <th>profit</th>\n",
       "    </tr>\n",
       "  </thead>\n",
       "  <tbody>\n",
       "    <tr>\n",
       "      <td>Peter Jackson</td>\n",
       "      <td>5202593685</td>\n",
       "    </tr>\n",
       "    <tr>\n",
       "      <td>David Yates</td>\n",
       "      <td>3379295625</td>\n",
       "    </tr>\n",
       "    <tr>\n",
       "      <td>Christopher Nolan</td>\n",
       "      <td>3162548502</td>\n",
       "    </tr>\n",
       "    <tr>\n",
       "      <td>J.J. Abrams</td>\n",
       "      <td>2839169916</td>\n",
       "    </tr>\n",
       "    <tr>\n",
       "      <td>Michael Bay</td>\n",
       "      <td>2760938960</td>\n",
       "    </tr>\n",
       "    <tr>\n",
       "      <td>...</td>\n",
       "      <td>...</td>\n",
       "    </tr>\n",
       "    <tr>\n",
       "      <td>Peter Hyams</td>\n",
       "      <td>-86956545</td>\n",
       "    </tr>\n",
       "    <tr>\n",
       "      <td>Ron Underwood</td>\n",
       "      <td>-92896027</td>\n",
       "    </tr>\n",
       "    <tr>\n",
       "      <td>James L. Brooks</td>\n",
       "      <td>-96289726</td>\n",
       "    </tr>\n",
       "    <tr>\n",
       "      <td>Walter Hill</td>\n",
       "      <td>-128283462</td>\n",
       "    </tr>\n",
       "    <tr>\n",
       "      <td>Sngmoo Lee</td>\n",
       "      <td>-413912431</td>\n",
       "    </tr>\n",
       "  </tbody>\n",
       "</table>\n",
       "<p>998 rows × 1 columns</p>\n",
       "</div>"
      ],
      "text/plain": [
       "                       profit\n",
       "Peter Jackson      5202593685\n",
       "David Yates        3379295625\n",
       "Christopher Nolan  3162548502\n",
       "J.J. Abrams        2839169916\n",
       "Michael Bay        2760938960\n",
       "...                       ...\n",
       "Peter Hyams         -86956545\n",
       "Ron Underwood       -92896027\n",
       "James L. Brooks     -96289726\n",
       "Walter Hill        -128283462\n",
       "Sngmoo Lee         -413912431\n",
       "\n",
       "[998 rows x 1 columns]"
      ]
     },
     "execution_count": 98,
     "metadata": {},
     "output_type": "execute_result"
    }
   ],
   "source": [
    "#15 (универсальный вариант) \n",
    "import pandas as pd\n",
    "data = pd.read_csv('data.csv')\n",
    "data['profit'] = data.revenue - data.budget\n",
    "directors_set = set()\n",
    "for d in data.director:\n",
    "    for director in d.split('|'):\n",
    "        directors_set.add(director)\n",
    "#print(directors_set)\n",
    "directors_list = list(directors_set)\n",
    "\n",
    "director_df = pd.DataFrame(columns = ['profit'])\n",
    "for director in directors_list:\n",
    "    temp_df = data[data['director'].str.contains(director)]\n",
    "    new_df = temp_df.copy(deep = True)\n",
    "    new_df['director'] = director\n",
    "    #print(temp_df)\n",
    "    grouped = new_df.groupby('director').sum()[['profit']]\n",
    "    #print(grouped)\n",
    "    director_df = pd.concat([director_df, grouped])\n",
    "#display(director_df)\n",
    "director = director_df.sort_values(by = 'profit', ascending = False)\n",
    "director"
   ]
  },
  {
   "cell_type": "code",
   "execution_count": 118,
   "metadata": {},
   "outputs": [
    {
     "data": {
      "text/plain": [
       "Emma Watson           6666245597\n",
       "Daniel Radcliffe      6514990281\n",
       "Rupert Grint          6408638290\n",
       "Ian McKellen          6087375777\n",
       "Robert Downey Jr.     5316030161\n",
       "                         ...    \n",
       "Elisabeth Harnois     -111007242\n",
       "Emilio EchevarrÃ­a    -119180039\n",
       "Kate Bosworth         -369455668\n",
       "Ti Lung               -413912431\n",
       "Jang Dong-gun         -413912431\n",
       "Length: 3408, dtype: int64"
      ]
     },
     "execution_count": 118,
     "metadata": {},
     "output_type": "execute_result"
    }
   ],
   "source": [
    "#16\n",
    "data['profit'] = data.revenue - data.budget\n",
    "actors = set(data.cast.str.split('|').sum())\n",
    "required_actor = pd.Series({x:data[data.cast.str.contains(x)].profit.sum()\n",
    "for x in actors}).sort_values(ascending = False)\n",
    "required_actor"
   ]
  },
  {
   "cell_type": "code",
   "execution_count": 108,
   "metadata": {},
   "outputs": [
    {
     "name": "stdout",
     "output_type": "stream",
     "text": [
      "                 budget     revenue      profit\n",
      "Emma Watson  1493000000  8159245597  6666245597\n"
     ]
    }
   ],
   "source": [
    "#16 (с функцией)\n",
    "import pandas as pd\n",
    "data = pd.read_csv('data.csv')\n",
    "data['profit'] = data.revenue - data.budget\n",
    "def get_df_with_actor_index(actors, data):\n",
    "    common_df = pd.DataFrame(columns = ['budget', 'revenue', 'profit'])\n",
    "    for actor in actors_list:\n",
    "        temp_df = data[data['cast'].str.contains(actor)]\n",
    "        new_df = temp_df.copy(deep=True)\n",
    "        new_df['actor'] = actor\n",
    "        grouped_df = new_df.groupby('actor').sum()[['budget', 'revenue', 'profit']]\n",
    "        common_df = pd.concat([common_df, grouped_df])\n",
    "    return common_df\n",
    "actors_set = set()\n",
    "[actors_set.add(actor) for actors in [s.split('|') for s in data.cast] for actor in actors]\n",
    "actors_list = list(actors_set)\n",
    "grouped_common_df = get_df_with_actor_index(actors_list, data)\n",
    "res_16 = grouped_common_df[grouped_common_df['profit'] == grouped_common_df.profit.max()]\n",
    "print(res_16)"
   ]
  },
  {
   "cell_type": "code",
   "execution_count": 147,
   "metadata": {},
   "outputs": [
    {
     "data": {
      "text/plain": [
       "Kirsten Dunst   -68109207\n",
       "dtype: int64"
      ]
     },
     "execution_count": 147,
     "metadata": {},
     "output_type": "execute_result"
    }
   ],
   "source": [
    "#17\n",
    "data = pd.read_csv('data.csv')\n",
    "data = data[data['release_year'] == 2012]\n",
    "data['profit'] = data.revenue - data.budget\n",
    "actors = set(data.cast.str.split('|').sum())\n",
    "actors_12 = pd.Series({x: data[data.cast.str.contains(x)].profit.sum() for x in actors}).sort_values(ascending = True)\n",
    "actors_12.head(1)"
   ]
  },
  {
   "cell_type": "code",
   "execution_count": 156,
   "metadata": {},
   "outputs": [
    {
     "data": {
      "text/plain": [
       "[('Matt Damon', 18),\n",
       " ('Adam Sandler', 17),\n",
       " ('Angelina Jolie', 16),\n",
       " ('Tom Cruise', 15),\n",
       " ('Samuel L. Jackson', 15)]"
      ]
     },
     "execution_count": 156,
     "metadata": {},
     "output_type": "execute_result"
    }
   ],
   "source": [
    "#18\n",
    "'''Какой актер снялся в большем количестве высокобюджетных фильмов? \n",
    "Примечание: в фильмах, где бюджет выше среднего по данной выборке.'''\n",
    "data = pd.read_csv('data.csv')\n",
    "data = data[data.budget > data.budget.mean()]\n",
    "actors = data.cast.str.split('|').sum()\n",
    "import collections\n",
    "c = collections.Counter()\n",
    "for i in actors:\n",
    "    c[i] += 1\n",
    "c.most_common(5)"
   ]
  },
  {
   "cell_type": "code",
   "execution_count": 165,
   "metadata": {},
   "outputs": [
    {
     "data": {
      "text/plain": [
       "[('Action', 17),\n",
       " ('Thriller', 15),\n",
       " ('Drama', 12),\n",
       " ('Crime', 10),\n",
       " ('Fantasy', 8)]"
      ]
     },
     "execution_count": 165,
     "metadata": {},
     "output_type": "execute_result"
    }
   ],
   "source": [
    "#19\n",
    "'''В фильмах какого жанра больше всего снимался Nicolas Cage'''\n",
    "data = pd.read_csv('data.csv')\n",
    "data = data[data.cast.str.contains('Nicolas Cage')]\n",
    "import collections\n",
    "c = collections.Counter()\n",
    "genres = data['genres'].str.split('|').sum()\n",
    "for i in genres:\n",
    "    c[i] += 1\n",
    "c.most_common(5)"
   ]
  },
  {
   "cell_type": "code",
   "execution_count": 166,
   "metadata": {},
   "outputs": [
    {
     "data": {
      "text/plain": [
       "[('Universal Pictures', 173),\n",
       " ('Warner Bros.', 168),\n",
       " ('Paramount Pictures', 122),\n",
       " ('Columbia Pictures', 117),\n",
       " ('Twentieth Century Fox Film Corporation', 109)]"
      ]
     },
     "execution_count": 166,
     "metadata": {},
     "output_type": "execute_result"
    }
   ],
   "source": [
    "#20\n",
    "'''Какая студия сняла больше всего фильмов'''\n",
    "data = pd.read_csv('data.csv')\n",
    "companies = data.production_companies.str.split('|').sum()\n",
    "c = collections.Counter()\n",
    "for i in companies:\n",
    "    c[i] += 1\n",
    "c.most_common(5)"
   ]
  },
  {
   "cell_type": "code",
   "execution_count": 167,
   "metadata": {},
   "outputs": [
    {
     "data": {
      "text/plain": [
       "[('Warner Bros.', 12),\n",
       " ('Universal Pictures', 10),\n",
       " ('Twentieth Century Fox Film Corporation', 8),\n",
       " ('Paramount Pictures', 7),\n",
       " ('Columbia Pictures', 7)]"
      ]
     },
     "execution_count": 167,
     "metadata": {},
     "output_type": "execute_result"
    }
   ],
   "source": [
    "#21\n",
    "'''Какая студия сняла больше всего фильмов в 2015 году?'''\n",
    "data = pd.read_csv('data.csv')\n",
    "data = data[data['release_year'] == 2015]\n",
    "companies = data.production_companies.str.split('|').sum()\n",
    "c = collections.Counter()\n",
    "for i in companies:\n",
    "    c[i] += 1\n",
    "c.most_common(5)"
   ]
  },
  {
   "cell_type": "code",
   "execution_count": 182,
   "metadata": {},
   "outputs": [
    {
     "data": {
      "text/plain": [
       "Universal                9130349034\n",
       "Universal Pictures       8952422726\n",
       "Twentieth Century Fox    8239362666\n",
       "Disney                   8006316328\n",
       "Walt Disney Pictures     7669710326\n",
       "dtype: int64"
      ]
     },
     "execution_count": 182,
     "metadata": {},
     "output_type": "execute_result"
    }
   ],
   "source": [
    "#22\n",
    "'''Какая студия заработала больше всего денег в жанре комедий за все время?'''\n",
    "data = pd.read_csv('data.csv')\n",
    "data['profit'] = data.revenue - data.budget\n",
    "data['genres'] = data.genres.str.lower()\n",
    "data = data[data.genres.str.contains('comedy')]\n",
    "companies = set(data.production_companies.str.split('|').sum())\n",
    "right_companies = pd.Series({x: data[data.production_companies.str.contains(x)].profit.sum() for x in companies})\n",
    "right_companies.sort_values(ascending = False).head(5)"
   ]
  },
  {
   "cell_type": "code",
   "execution_count": 183,
   "metadata": {},
   "outputs": [
    {
     "data": {
      "text/plain": [
       "Columbia Pictures     2501406608\n",
       "Universal Pictures    1981011579\n",
       "Marvel Studios        1299557910\n",
       "Warner Bros.          1258020056\n",
       "Relativity Media      1032593938\n",
       "dtype: int64"
      ]
     },
     "execution_count": 183,
     "metadata": {},
     "output_type": "execute_result"
    }
   ],
   "source": [
    "#23\n",
    "'''Какая студия заработала больше всего денег в 2012 году?'''\n",
    "data = pd.read_csv('data.csv')\n",
    "data['profit'] = data.revenue - data.budget\n",
    "data = data[data['release_year'] == 2012]\n",
    "companies = set(data.production_companies.str.split('|').sum())\n",
    "right_companies = pd.Series({x: data[data.production_companies.str.contains(x)].profit.sum() for x in companies})\n",
    "right_companies.sort_values(ascending = False).head(5)"
   ]
  },
  {
   "cell_type": "code",
   "execution_count": 184,
   "metadata": {},
   "outputs": [
    {
     "data": {
      "text/html": [
       "<div>\n",
       "<style scoped>\n",
       "    .dataframe tbody tr th:only-of-type {\n",
       "        vertical-align: middle;\n",
       "    }\n",
       "\n",
       "    .dataframe tbody tr th {\n",
       "        vertical-align: top;\n",
       "    }\n",
       "\n",
       "    .dataframe thead th {\n",
       "        text-align: right;\n",
       "    }\n",
       "</style>\n",
       "<table border=\"1\" class=\"dataframe\">\n",
       "  <thead>\n",
       "    <tr style=\"text-align: right;\">\n",
       "      <th></th>\n",
       "      <th>imdb_id</th>\n",
       "      <th>popularity</th>\n",
       "      <th>budget</th>\n",
       "      <th>revenue</th>\n",
       "      <th>original_title</th>\n",
       "      <th>cast</th>\n",
       "      <th>director</th>\n",
       "      <th>tagline</th>\n",
       "      <th>overview</th>\n",
       "      <th>runtime</th>\n",
       "      <th>genres</th>\n",
       "      <th>production_companies</th>\n",
       "      <th>release_date</th>\n",
       "      <th>vote_count</th>\n",
       "      <th>vote_average</th>\n",
       "      <th>release_year</th>\n",
       "      <th>profit</th>\n",
       "    </tr>\n",
       "  </thead>\n",
       "  <tbody>\n",
       "    <tr>\n",
       "      <td>926</td>\n",
       "      <td>tt0267626</td>\n",
       "      <td>0.72233</td>\n",
       "      <td>100000000</td>\n",
       "      <td>35168966</td>\n",
       "      <td>K-19: The Widowmaker</td>\n",
       "      <td>Harrison Ford|Liam Neeson|Peter Sarsgaard|Joss...</td>\n",
       "      <td>Kathryn Bigelow</td>\n",
       "      <td>Fate has found its hero.</td>\n",
       "      <td>When Russia's first nuclear submarine malfunct...</td>\n",
       "      <td>138</td>\n",
       "      <td>Thriller|Drama|History</td>\n",
       "      <td>Paramount Pictures|Intermedia Films|National G...</td>\n",
       "      <td>7/19/2002</td>\n",
       "      <td>146</td>\n",
       "      <td>6.0</td>\n",
       "      <td>2002</td>\n",
       "      <td>-64831034</td>\n",
       "    </tr>\n",
       "  </tbody>\n",
       "</table>\n",
       "</div>"
      ],
      "text/plain": [
       "       imdb_id  popularity     budget   revenue        original_title  \\\n",
       "926  tt0267626     0.72233  100000000  35168966  K-19: The Widowmaker   \n",
       "\n",
       "                                                  cast         director  \\\n",
       "926  Harrison Ford|Liam Neeson|Peter Sarsgaard|Joss...  Kathryn Bigelow   \n",
       "\n",
       "                      tagline  \\\n",
       "926  Fate has found its hero.   \n",
       "\n",
       "                                              overview  runtime  \\\n",
       "926  When Russia's first nuclear submarine malfunct...      138   \n",
       "\n",
       "                     genres  \\\n",
       "926  Thriller|Drama|History   \n",
       "\n",
       "                                  production_companies release_date  \\\n",
       "926  Paramount Pictures|Intermedia Films|National G...    7/19/2002   \n",
       "\n",
       "     vote_count  vote_average  release_year    profit  \n",
       "926         146           6.0          2002 -64831034  "
      ]
     },
     "execution_count": 184,
     "metadata": {},
     "output_type": "execute_result"
    }
   ],
   "source": [
    "#24\n",
    "df = pd.read_csv('data.csv')\n",
    "df['profit'] = df.revenue - df.budget\n",
    "pp = df[df.production_companies.str.contains('Paramount Pictures')]\n",
    "pp[pp.profit == pp.profit.min()]"
   ]
  },
  {
   "cell_type": "code",
   "execution_count": 187,
   "metadata": {},
   "outputs": [
    {
     "data": {
      "text/plain": [
       "release_year\n",
       "2015    18668572378\n",
       "2014    16397812953\n",
       "2012    16077001687\n",
       "2013    15243179791\n",
       "2011    14730241341\n",
       "2009    13423744372\n",
       "2010    13117292530\n",
       "2008    11663881990\n",
       "2007    11565911801\n",
       "2004     9634180720\n",
       "2003     9228823312\n",
       "2002     9002361487\n",
       "2005     8981925558\n",
       "2006     8691077320\n",
       "2001     7950614865\n",
       "2000     6101399805\n",
       "Name: profit, dtype: int64"
      ]
     },
     "execution_count": 187,
     "metadata": {},
     "output_type": "execute_result"
    }
   ],
   "source": [
    "#25\n",
    "#Какой самый прибыльный год (в какой год студии заработали больше всего)?\n",
    "df = pd.read_csv('data.csv')\n",
    "df['profit'] = df.revenue - df.budget\n",
    "df.groupby(['release_year'])['profit'].groups\n",
    "df.groupby(['release_year'])['profit'].sum().sort_values(ascending = False)"
   ]
  },
  {
   "cell_type": "code",
   "execution_count": 129,
   "metadata": {},
   "outputs": [
    {
     "data": {
      "text/plain": [
       "release_year\n",
       "2014    2295464519\n",
       "2007    2201675217\n",
       "2008    2134595031\n",
       "2010    1974712985\n",
       "2011    1871393682\n",
       "2003    1855493377\n",
       "2009    1822454136\n",
       "2013    1636453400\n",
       "2004    1631933725\n",
       "2005    1551980298\n",
       "2001    1343545668\n",
       "2012    1258020056\n",
       "2002    1022709901\n",
       "2015     870368348\n",
       "2006     620170743\n",
       "2000     452631386\n",
       "Name: pribil, dtype: int64"
      ]
     },
     "execution_count": 129,
     "metadata": {},
     "output_type": "execute_result"
    }
   ],
   "source": [
    "#26\n",
    "#Какой самый прибыльный год для студии Warner Bros?\n",
    "df = pd.read_csv('data.csv')\n",
    "df['pribil'] = df.revenue - df.budget\n",
    "df = df[df.production_companies.str.contains('Warner Bros')]\n",
    "df.groupby(['release_year'])['pribil'].groups\n",
    "maxi = df.groupby(['release_year'])['pribil'].sum().sort_values(ascending = False)\n",
    "maxi"
   ]
  },
  {
   "cell_type": "code",
   "execution_count": 188,
   "metadata": {},
   "outputs": [
    {
     "data": {
      "text/plain": [
       "month\n",
       "1     110\n",
       "2     135\n",
       "3     156\n",
       "4     149\n",
       "5     140\n",
       "6     147\n",
       "7     142\n",
       "8     161\n",
       "9     227\n",
       "10    186\n",
       "11    146\n",
       "12    191\n",
       "Name: original_title, dtype: int64"
      ]
     },
     "execution_count": 188,
     "metadata": {},
     "output_type": "execute_result"
    }
   ],
   "source": [
    "#27\n",
    "#В каком месяце за все годы суммарно вышло больше всего фильмов?\n",
    "df = pd.read_csv('data.csv')\n",
    "df['pribil'] = df.revenue - df.budget\n",
    "df['month'] = pd.DatetimeIndex(df['release_date']).month  \n",
    "df.groupby(['month'])['original_title'].count()"
   ]
  },
  {
   "cell_type": "code",
   "execution_count": 160,
   "metadata": {},
   "outputs": [
    {
     "data": {
      "text/plain": [
       "450"
      ]
     },
     "execution_count": 160,
     "metadata": {},
     "output_type": "execute_result"
    }
   ],
   "source": [
    "#28\n",
    "#Сколько суммарно вышло фильмов летом (за июнь, июль, август)?\n",
    "df = pd.read_csv('data.csv')\n",
    "df['pribil'] = df.revenue - df.budget\n",
    "df['month'] = pd.DatetimeIndex(df['release_date']).month  \n",
    "m = df.groupby(['month'])['original_title'].count()\n",
    "suma = m[6] + m[7] + m[8]\n",
    "suma"
   ]
  },
  {
   "cell_type": "code",
   "execution_count": 190,
   "metadata": {},
   "outputs": [
    {
     "data": {
      "text/plain": [
       "[('Peter Jackson', 7),\n",
       " ('Clint Eastwood', 6),\n",
       " ('Steven Soderbergh', 6),\n",
       " ('Shawn Levy', 4),\n",
       " ('Nancy Meyers', 4)]"
      ]
     },
     "execution_count": 190,
     "metadata": {},
     "output_type": "execute_result"
    }
   ],
   "source": [
    "#29\n",
    "#Какой режиссер выпускает (суммарно по годам) больше всего фильмов зимой?\n",
    "import pandas as pd\n",
    "df = pd.read_csv('data.csv')\n",
    "df['profit'] = df.revenue - df.budget\n",
    "df['month'] = pd.DatetimeIndex(df['release_date']).month\n",
    "zima = df.query('month==1 or month==2 or month==12')\n",
    "zima = zima.director.str.split('|').sum()\n",
    "zima\n",
    "import collections\n",
    "c = collections.Counter()\n",
    "for i in zima:\n",
    "    c[i] += 1\n",
    "c.most_common(5)"
   ]
  },
  {
   "cell_type": "code",
   "execution_count": 73,
   "metadata": {},
   "outputs": [
    {
     "data": {
      "text/plain": [
       "Counter({12: 4, 5: 4, 6: 7, 7: 1})"
      ]
     },
     "execution_count": 73,
     "metadata": {},
     "output_type": "execute_result"
    }
   ],
   "source": [
    "#30\n",
    "'''Какой месяц чаще всего самый прибыльный в году?'''\n",
    "import pandas as pd\n",
    "df = pd.read_csv('data.csv')\n",
    "df['profit'] = df.revenue - df.budget\n",
    "df['month'] = pd.DatetimeIndex(df['release_date']).month\n",
    "table_month = pd.pivot_table(df, values='profit', index=['release_year'], columns=['month'], aggfunc='sum')\n",
    "table_month['max_mo']=table_month.idxmax(axis=1)\n",
    "c = collections.Counter()\n",
    "for i in table_month.max_mo:\n",
    "    c[i] += 1\n",
    "c"
   ]
  },
  {
   "cell_type": "code",
   "execution_count": null,
   "metadata": {},
   "outputs": [],
   "source": [
    "import pandas as pd\n",
    "data = pd.read_csv('data.csv')\n",
    "directors_set = set()\n",
    "for d in data.director:\n",
    "    for director in d.split('|'):\n",
    "        directors_set.add(director)\n",
    "#print(directors_set)\n",
    "directors_list = list(directors_set)\n",
    "\n",
    "director_df = pd.DataFrame(columns = ['profit'])\n",
    "for director in directors_list:\n",
    "    temp_df = data[data['director'].str.contains(director)]\n",
    "    new_df = temp_df.copy(deep = True)\n",
    "    new_df['director'] = director\n",
    "    #print(temp_df)\n",
    "    grouped = new_df.groupby('director').sum()[['profit']]\n",
    "    #print(grouped)\n",
    "    director_df = pd.concat([director_df, grouped])\n",
    "#display(director_df)\n",
    "director = director_df.sort_values(by = 'profit', ascending = False)\n",
    "director"
   ]
  },
  {
   "cell_type": "code",
   "execution_count": 9,
   "metadata": {},
   "outputs": [
    {
     "data": {
      "text/plain": [
       "Four By Two Productions      83.0\n",
       "Jim Henson Company, The      59.0\n",
       "Dos Corazones                47.0\n",
       "Museum Canada Productions    46.0\n",
       "Polsky Films                 46.0\n",
       "dtype: float64"
      ]
     },
     "execution_count": 9,
     "metadata": {},
     "output_type": "execute_result"
    }
   ],
   "source": [
    "#31\n",
    "#Названия фильмов какой студии в среднем самые длинные по количеству символов?\n",
    "import pandas as pd\n",
    "data = pd.read_csv('data.csv')\n",
    "data['len'] = data['original_title'].str.len()\n",
    "companies = set(data.production_companies.str.split('|').sum())\n",
    "company = pd.Series({x: data[data.production_companies.str.contains(x)].len.mean() \n",
    "                     for x in companies}).sort_values(ascending = False).head(5)\n",
    "company"
   ]
  },
  {
   "cell_type": "code",
   "execution_count": 12,
   "metadata": {},
   "outputs": [
    {
     "data": {
      "text/plain": [
       "Four By Two Productions    12.0\n",
       "Jim Henson Company, The    10.0\n",
       "Polsky Films                9.0\n",
       "Dos Corazones               9.0\n",
       "The Saul Zaentz Company     9.0\n",
       "dtype: float64"
      ]
     },
     "execution_count": 12,
     "metadata": {},
     "output_type": "execute_result"
    }
   ],
   "source": [
    "#32\n",
    "'''Названия фильмов какой студии в среднем самые длинные по количеству слов?'''\n",
    "import pandas as pd\n",
    "data = pd.read_csv('data.csv')\n",
    "data['len'] = data.original_title.str.split(' ').str.len()\n",
    "companies = set(data.production_companies.str.split('|').sum())\n",
    "company = pd.Series({x: data[data.production_companies.str.contains(x)].len.mean() \n",
    "                     for x in companies}).sort_values(ascending = False).head(5)\n",
    "company"
   ]
  },
  {
   "cell_type": "code",
   "execution_count": 208,
   "metadata": {},
   "outputs": [
    {
     "data": {
      "text/plain": [
       "2461"
      ]
     },
     "execution_count": 208,
     "metadata": {},
     "output_type": "execute_result"
    }
   ],
   "source": [
    "#33\n",
    "import pandas as pd\n",
    "df = pd.read_csv('data.csv')\n",
    "df['original_title'] = df['original_title'].str.replace('  ', ' ').str.lower()\n",
    "df = set(df.original_title.str.split(' ').sum())\n",
    "len(df)"
   ]
  },
  {
   "cell_type": "code",
   "execution_count": 40,
   "metadata": {},
   "outputs": [
    {
     "name": "stdout",
     "output_type": "stream",
     "text": [
      "18.9\n"
     ]
    }
   ],
   "source": [
    "#для 34 задания (нахлждение 1 процента)\n",
    "data = pd.read_csv('data.csv')\n",
    "p = len(data)/100\n",
    "print(p)"
   ]
  },
  {
   "cell_type": "code",
   "execution_count": 39,
   "metadata": {},
   "outputs": [
    {
     "name": "stdout",
     "output_type": "stream",
     "text": [
      "18.9\n",
      "Inside Out\n",
      "Gone Girl\n",
      "12 Years a Slave\n",
      "The Lord of the Rings: The Return of the King\n",
      "Inside Out\n",
      "The Lord of the Rings: The Return of the King\n"
     ]
    }
   ],
   "source": [
    "#34\n",
    "#Какие фильмы входят в 1 % лучших по рейтингу?\n",
    "import pandas as pd\n",
    "data = pd.read_csv('data.csv')\n",
    "data = data.sort_values(by = 'vote_average', ascending = False).head(18)\n",
    "films = data.original_title.unique()\n",
    "variants = ['Inside Out', 'Gone Girl', '12 Years a Slave',\n",
    "'BloodRayne', 'The Adventures of Rocky and Bullwinkle',\n",
    "'The Lord of the Rings: The Return of the King', 'Upside Down',\n",
    "'300', 'Lucky Number Slevin',\n",
    "'Upside Down', '300', 'Inside Out', 'The Lord of the Rings: The Return of the King']\n",
    "var = set(variants)\n",
    "for i in variants:\n",
    "    if i in films:\n",
    "        print(i)"
   ]
  },
  {
   "cell_type": "code",
   "execution_count": 83,
   "metadata": {},
   "outputs": [
    {
     "data": {
      "text/html": [
       "<div>\n",
       "<style scoped>\n",
       "    .dataframe tbody tr th:only-of-type {\n",
       "        vertical-align: middle;\n",
       "    }\n",
       "\n",
       "    .dataframe tbody tr th {\n",
       "        vertical-align: top;\n",
       "    }\n",
       "\n",
       "    .dataframe thead th {\n",
       "        text-align: right;\n",
       "    }\n",
       "</style>\n",
       "<table border=\"1\" class=\"dataframe\">\n",
       "  <thead>\n",
       "    <tr style=\"text-align: right;\">\n",
       "      <th></th>\n",
       "      <th>imdb_id</th>\n",
       "      <th>popularity</th>\n",
       "      <th>budget</th>\n",
       "      <th>revenue</th>\n",
       "      <th>original_title</th>\n",
       "      <th>cast</th>\n",
       "      <th>director</th>\n",
       "      <th>tagline</th>\n",
       "      <th>overview</th>\n",
       "      <th>runtime</th>\n",
       "      <th>genres</th>\n",
       "      <th>production_companies</th>\n",
       "      <th>release_date</th>\n",
       "      <th>vote_count</th>\n",
       "      <th>vote_average</th>\n",
       "      <th>release_year</th>\n",
       "    </tr>\n",
       "  </thead>\n",
       "  <tbody>\n",
       "    <tr>\n",
       "      <td>28</td>\n",
       "      <td>tt1895587</td>\n",
       "      <td>4.062293</td>\n",
       "      <td>20000000</td>\n",
       "      <td>88346473</td>\n",
       "      <td>Spotlight</td>\n",
       "      <td>Mark Ruffalo|Michael Keaton|Rachel McAdams|Lie...</td>\n",
       "      <td>Tom McCarthy</td>\n",
       "      <td>Break the story. Break the silence.</td>\n",
       "      <td>The true story of how The Boston Globe uncover...</td>\n",
       "      <td>128</td>\n",
       "      <td>Drama|Thriller|History</td>\n",
       "      <td>Participant Media|Open Road Films|Anonymous Co...</td>\n",
       "      <td>11/6/2015</td>\n",
       "      <td>1559</td>\n",
       "      <td>7.8</td>\n",
       "      <td>2015</td>\n",
       "    </tr>\n",
       "    <tr>\n",
       "      <td>124</td>\n",
       "      <td>tt2245084</td>\n",
       "      <td>8.691294</td>\n",
       "      <td>165000000</td>\n",
       "      <td>652105443</td>\n",
       "      <td>Big Hero 6</td>\n",
       "      <td>Scott Adsit|Ryan Potter|Daniel Henney|T.J. Mil...</td>\n",
       "      <td>Don Hall|Chris Williams</td>\n",
       "      <td>From the creators of Wreck-it Ralph and Frozen</td>\n",
       "      <td>The special bond that develops between plus-si...</td>\n",
       "      <td>102</td>\n",
       "      <td>Adventure|Family|Animation|Action|Comedy</td>\n",
       "      <td>Walt Disney Pictures|Walt Disney Animation Stu...</td>\n",
       "      <td>10/24/2014</td>\n",
       "      <td>4185</td>\n",
       "      <td>7.8</td>\n",
       "      <td>2014</td>\n",
       "    </tr>\n",
       "    <tr>\n",
       "      <td>155</td>\n",
       "      <td>tt2980516</td>\n",
       "      <td>3.170271</td>\n",
       "      <td>15000000</td>\n",
       "      <td>121201940</td>\n",
       "      <td>The Theory of Everything</td>\n",
       "      <td>Eddie Redmayne|Felicity Jones|Harry Lloyd|Davi...</td>\n",
       "      <td>James Marsh</td>\n",
       "      <td>His Mind Changed Our World. Her Love Changed His.</td>\n",
       "      <td>A look at the relationship between the famous ...</td>\n",
       "      <td>123</td>\n",
       "      <td>Drama|Romance</td>\n",
       "      <td>Working Title Films</td>\n",
       "      <td>11/26/2014</td>\n",
       "      <td>1960</td>\n",
       "      <td>7.8</td>\n",
       "      <td>2014</td>\n",
       "    </tr>\n",
       "    <tr>\n",
       "      <td>177</td>\n",
       "      <td>tt2582846</td>\n",
       "      <td>2.293859</td>\n",
       "      <td>12000000</td>\n",
       "      <td>305151265</td>\n",
       "      <td>The Fault in Our Stars</td>\n",
       "      <td>Shailene Woodley|Ansel Elgort|Nat Wolff|Laura ...</td>\n",
       "      <td>Josh Boone</td>\n",
       "      <td>One Sick Love Story</td>\n",
       "      <td>Despite the tumor-shrinking medical miracle th...</td>\n",
       "      <td>125</td>\n",
       "      <td>Romance|Drama</td>\n",
       "      <td>Fox 2000 Pictures|Temple Hill Entertainment|TS...</td>\n",
       "      <td>5/16/2014</td>\n",
       "      <td>2389</td>\n",
       "      <td>7.8</td>\n",
       "      <td>2014</td>\n",
       "    </tr>\n",
       "    <tr>\n",
       "      <td>283</td>\n",
       "      <td>tt0485947</td>\n",
       "      <td>1.260010</td>\n",
       "      <td>47000000</td>\n",
       "      <td>3547209</td>\n",
       "      <td>Mr. Nobody</td>\n",
       "      <td>Jared Leto|Diane Kruger|Linh Äan Pháº¡m|Sarah ...</td>\n",
       "      <td>Jaco Van Dormael</td>\n",
       "      <td>Nothing is real, everything is possible.</td>\n",
       "      <td>Nemo Nobody leads an ordinary existence with h...</td>\n",
       "      <td>141</td>\n",
       "      <td>Science Fiction|Drama|Romance|Fantasy</td>\n",
       "      <td>Pan EuropÃ©enne Production|Virtual Films</td>\n",
       "      <td>9/11/2009</td>\n",
       "      <td>827</td>\n",
       "      <td>7.8</td>\n",
       "      <td>2009</td>\n",
       "    </tr>\n",
       "    <tr>\n",
       "      <td>316</td>\n",
       "      <td>tt1187043</td>\n",
       "      <td>0.816681</td>\n",
       "      <td>9000000</td>\n",
       "      <td>70000000</td>\n",
       "      <td>3 Idiots</td>\n",
       "      <td>Aamir Khan|Kareena Kapoor|Madhavan|Sharman Jos...</td>\n",
       "      <td>Rajkumar Hirani</td>\n",
       "      <td>Don't BE A STUPID BE AN I.D.I.O.T.</td>\n",
       "      <td>In the tradition of â€œFerris Buellerâ€™s Day ...</td>\n",
       "      <td>170</td>\n",
       "      <td>Drama|Comedy|Romance</td>\n",
       "      <td>Vidhu Vinod Chopra Productions</td>\n",
       "      <td>12/23/2009</td>\n",
       "      <td>662</td>\n",
       "      <td>7.8</td>\n",
       "      <td>2009</td>\n",
       "    </tr>\n",
       "    <tr>\n",
       "      <td>497</td>\n",
       "      <td>tt0120737</td>\n",
       "      <td>8.575419</td>\n",
       "      <td>93000000</td>\n",
       "      <td>871368364</td>\n",
       "      <td>The Lord of the Rings: The Fellowship of the Ring</td>\n",
       "      <td>Elijah Wood|Ian McKellen|Viggo Mortensen|Liv T...</td>\n",
       "      <td>Peter Jackson</td>\n",
       "      <td>One ring to rule them all</td>\n",
       "      <td>Young hobbit Frodo Baggins, after inheriting a...</td>\n",
       "      <td>178</td>\n",
       "      <td>Adventure|Fantasy|Action</td>\n",
       "      <td>WingNut Films|New Line Cinema|The Saul Zaentz ...</td>\n",
       "      <td>12/18/2001</td>\n",
       "      <td>6079</td>\n",
       "      <td>7.8</td>\n",
       "      <td>2001</td>\n",
       "    </tr>\n",
       "    <tr>\n",
       "      <td>864</td>\n",
       "      <td>tt0167261</td>\n",
       "      <td>8.095275</td>\n",
       "      <td>79000000</td>\n",
       "      <td>926287400</td>\n",
       "      <td>The Lord of the Rings: The Two Towers</td>\n",
       "      <td>Elijah Wood|Ian McKellen|Viggo Mortensen|Liv T...</td>\n",
       "      <td>Peter Jackson</td>\n",
       "      <td>A New Power Is Rising.</td>\n",
       "      <td>Frodo and Sam are trekking to Mordor to destro...</td>\n",
       "      <td>179</td>\n",
       "      <td>Adventure|Fantasy|Action</td>\n",
       "      <td>WingNut Films|New Line Cinema|The Saul Zaentz ...</td>\n",
       "      <td>12/18/2002</td>\n",
       "      <td>5114</td>\n",
       "      <td>7.8</td>\n",
       "      <td>2002</td>\n",
       "    </tr>\n",
       "    <tr>\n",
       "      <td>1189</td>\n",
       "      <td>tt1798709</td>\n",
       "      <td>3.951582</td>\n",
       "      <td>23000000</td>\n",
       "      <td>47351251</td>\n",
       "      <td>Her</td>\n",
       "      <td>Joaquin Phoenix|Scarlett Johansson|Rooney Mara...</td>\n",
       "      <td>Spike Jonze</td>\n",
       "      <td>A Spike Jonze Love Story</td>\n",
       "      <td>In the not so distant future, Theodore, a lone...</td>\n",
       "      <td>126</td>\n",
       "      <td>Romance|Science Fiction|Drama</td>\n",
       "      <td>Annapurna Pictures</td>\n",
       "      <td>12/18/2013</td>\n",
       "      <td>2422</td>\n",
       "      <td>7.8</td>\n",
       "      <td>2013</td>\n",
       "    </tr>\n",
       "    <tr>\n",
       "      <td>1206</td>\n",
       "      <td>tt1392214</td>\n",
       "      <td>2.032167</td>\n",
       "      <td>46000000</td>\n",
       "      <td>122126687</td>\n",
       "      <td>Prisoners</td>\n",
       "      <td>Hugh Jackman|Jake Gyllenhaal|Paul Dano|Maria B...</td>\n",
       "      <td>Denis Villeneuve</td>\n",
       "      <td>Every moment matters.</td>\n",
       "      <td>When Keller Dover's daughter and her friend go...</td>\n",
       "      <td>153</td>\n",
       "      <td>Drama|Thriller|Crime</td>\n",
       "      <td>Alcon Entertainment|Madhouse Entertainment|8:3...</td>\n",
       "      <td>9/18/2013</td>\n",
       "      <td>1826</td>\n",
       "      <td>7.8</td>\n",
       "      <td>2013</td>\n",
       "    </tr>\n",
       "    <tr>\n",
       "      <td>1214</td>\n",
       "      <td>tt0790636</td>\n",
       "      <td>1.765514</td>\n",
       "      <td>5000000</td>\n",
       "      <td>55198285</td>\n",
       "      <td>Dallas Buyers Club</td>\n",
       "      <td>Matthew McConaughey|Jennifer Garner|Jared Leto...</td>\n",
       "      <td>Jean-Marc VallÃ©e</td>\n",
       "      <td>Sometimes it takes a hustler to change the world</td>\n",
       "      <td>Loosely based on the true-life tale of Ron Woo...</td>\n",
       "      <td>117</td>\n",
       "      <td>Drama|History</td>\n",
       "      <td>Universal Studios|Universal Pictures|Voltage P...</td>\n",
       "      <td>9/7/2013</td>\n",
       "      <td>1831</td>\n",
       "      <td>7.8</td>\n",
       "      <td>2013</td>\n",
       "    </tr>\n",
       "    <tr>\n",
       "      <td>1445</td>\n",
       "      <td>tt0482571</td>\n",
       "      <td>2.582095</td>\n",
       "      <td>40000000</td>\n",
       "      <td>109676311</td>\n",
       "      <td>The Prestige</td>\n",
       "      <td>Hugh Jackman|Christian Bale|Michael Caine|Scar...</td>\n",
       "      <td>Christopher Nolan</td>\n",
       "      <td>Are You Watching Closely?</td>\n",
       "      <td>A mysterious story of two magicians whose inte...</td>\n",
       "      <td>130</td>\n",
       "      <td>Drama|Mystery|Thriller</td>\n",
       "      <td>Touchstone Pictures|Syncopy</td>\n",
       "      <td>10/19/2006</td>\n",
       "      <td>2519</td>\n",
       "      <td>7.8</td>\n",
       "      <td>2006</td>\n",
       "    </tr>\n",
       "    <tr>\n",
       "      <td>1564</td>\n",
       "      <td>tt0338013</td>\n",
       "      <td>3.863377</td>\n",
       "      <td>20000000</td>\n",
       "      <td>72258126</td>\n",
       "      <td>Eternal Sunshine of the Spotless Mind</td>\n",
       "      <td>Jim Carrey|Kate Winslet|Elijah Wood|Mark Ruffa...</td>\n",
       "      <td>Michel Gondry</td>\n",
       "      <td>I already forget how I used to feel about you.</td>\n",
       "      <td>Joel Barish, heartbroken that his girlfriend u...</td>\n",
       "      <td>108</td>\n",
       "      <td>Science Fiction|Drama|Romance</td>\n",
       "      <td>Anonymous Content|This Is That Productions|Foc...</td>\n",
       "      <td>3/19/2004</td>\n",
       "      <td>2012</td>\n",
       "      <td>7.8</td>\n",
       "      <td>2004</td>\n",
       "    </tr>\n",
       "    <tr>\n",
       "      <td>1689</td>\n",
       "      <td>tt0469494</td>\n",
       "      <td>2.042620</td>\n",
       "      <td>25000000</td>\n",
       "      <td>76181545</td>\n",
       "      <td>There Will Be Blood</td>\n",
       "      <td>Daniel Day-Lewis|Paul Dano|Dillon Freasier|Cia...</td>\n",
       "      <td>Paul Thomas Anderson</td>\n",
       "      <td>There Will Be Greed. There Will Be Vengeance.</td>\n",
       "      <td>When ruthless oil prospector, Daniel Plainview...</td>\n",
       "      <td>158</td>\n",
       "      <td>Drama</td>\n",
       "      <td>Miramax Films|Ghoulardi Film Company|Paramount...</td>\n",
       "      <td>12/28/2007</td>\n",
       "      <td>830</td>\n",
       "      <td>7.8</td>\n",
       "      <td>2007</td>\n",
       "    </tr>\n",
       "  </tbody>\n",
       "</table>\n",
       "</div>"
      ],
      "text/plain": [
       "        imdb_id  popularity     budget    revenue  \\\n",
       "28    tt1895587    4.062293   20000000   88346473   \n",
       "124   tt2245084    8.691294  165000000  652105443   \n",
       "155   tt2980516    3.170271   15000000  121201940   \n",
       "177   tt2582846    2.293859   12000000  305151265   \n",
       "283   tt0485947    1.260010   47000000    3547209   \n",
       "316   tt1187043    0.816681    9000000   70000000   \n",
       "497   tt0120737    8.575419   93000000  871368364   \n",
       "864   tt0167261    8.095275   79000000  926287400   \n",
       "1189  tt1798709    3.951582   23000000   47351251   \n",
       "1206  tt1392214    2.032167   46000000  122126687   \n",
       "1214  tt0790636    1.765514    5000000   55198285   \n",
       "1445  tt0482571    2.582095   40000000  109676311   \n",
       "1564  tt0338013    3.863377   20000000   72258126   \n",
       "1689  tt0469494    2.042620   25000000   76181545   \n",
       "\n",
       "                                         original_title  \\\n",
       "28                                            Spotlight   \n",
       "124                                          Big Hero 6   \n",
       "155                            The Theory of Everything   \n",
       "177                              The Fault in Our Stars   \n",
       "283                                          Mr. Nobody   \n",
       "316                                            3 Idiots   \n",
       "497   The Lord of the Rings: The Fellowship of the Ring   \n",
       "864               The Lord of the Rings: The Two Towers   \n",
       "1189                                                Her   \n",
       "1206                                          Prisoners   \n",
       "1214                                 Dallas Buyers Club   \n",
       "1445                                       The Prestige   \n",
       "1564              Eternal Sunshine of the Spotless Mind   \n",
       "1689                                There Will Be Blood   \n",
       "\n",
       "                                                   cast  \\\n",
       "28    Mark Ruffalo|Michael Keaton|Rachel McAdams|Lie...   \n",
       "124   Scott Adsit|Ryan Potter|Daniel Henney|T.J. Mil...   \n",
       "155   Eddie Redmayne|Felicity Jones|Harry Lloyd|Davi...   \n",
       "177   Shailene Woodley|Ansel Elgort|Nat Wolff|Laura ...   \n",
       "283   Jared Leto|Diane Kruger|Linh Äan Pháº¡m|Sarah ...   \n",
       "316   Aamir Khan|Kareena Kapoor|Madhavan|Sharman Jos...   \n",
       "497   Elijah Wood|Ian McKellen|Viggo Mortensen|Liv T...   \n",
       "864   Elijah Wood|Ian McKellen|Viggo Mortensen|Liv T...   \n",
       "1189  Joaquin Phoenix|Scarlett Johansson|Rooney Mara...   \n",
       "1206  Hugh Jackman|Jake Gyllenhaal|Paul Dano|Maria B...   \n",
       "1214  Matthew McConaughey|Jennifer Garner|Jared Leto...   \n",
       "1445  Hugh Jackman|Christian Bale|Michael Caine|Scar...   \n",
       "1564  Jim Carrey|Kate Winslet|Elijah Wood|Mark Ruffa...   \n",
       "1689  Daniel Day-Lewis|Paul Dano|Dillon Freasier|Cia...   \n",
       "\n",
       "                     director  \\\n",
       "28               Tom McCarthy   \n",
       "124   Don Hall|Chris Williams   \n",
       "155               James Marsh   \n",
       "177                Josh Boone   \n",
       "283          Jaco Van Dormael   \n",
       "316           Rajkumar Hirani   \n",
       "497             Peter Jackson   \n",
       "864             Peter Jackson   \n",
       "1189              Spike Jonze   \n",
       "1206         Denis Villeneuve   \n",
       "1214        Jean-Marc VallÃ©e   \n",
       "1445        Christopher Nolan   \n",
       "1564            Michel Gondry   \n",
       "1689     Paul Thomas Anderson   \n",
       "\n",
       "                                                tagline  \\\n",
       "28                  Break the story. Break the silence.   \n",
       "124      From the creators of Wreck-it Ralph and Frozen   \n",
       "155   His Mind Changed Our World. Her Love Changed His.   \n",
       "177                                 One Sick Love Story   \n",
       "283            Nothing is real, everything is possible.   \n",
       "316                  Don't BE A STUPID BE AN I.D.I.O.T.   \n",
       "497                           One ring to rule them all   \n",
       "864                              A New Power Is Rising.   \n",
       "1189                           A Spike Jonze Love Story   \n",
       "1206                              Every moment matters.   \n",
       "1214   Sometimes it takes a hustler to change the world   \n",
       "1445                          Are You Watching Closely?   \n",
       "1564     I already forget how I used to feel about you.   \n",
       "1689      There Will Be Greed. There Will Be Vengeance.   \n",
       "\n",
       "                                               overview  runtime  \\\n",
       "28    The true story of how The Boston Globe uncover...      128   \n",
       "124   The special bond that develops between plus-si...      102   \n",
       "155   A look at the relationship between the famous ...      123   \n",
       "177   Despite the tumor-shrinking medical miracle th...      125   \n",
       "283   Nemo Nobody leads an ordinary existence with h...      141   \n",
       "316   In the tradition of â€œFerris Buellerâ€™s Day ...      170   \n",
       "497   Young hobbit Frodo Baggins, after inheriting a...      178   \n",
       "864   Frodo and Sam are trekking to Mordor to destro...      179   \n",
       "1189  In the not so distant future, Theodore, a lone...      126   \n",
       "1206  When Keller Dover's daughter and her friend go...      153   \n",
       "1214  Loosely based on the true-life tale of Ron Woo...      117   \n",
       "1445  A mysterious story of two magicians whose inte...      130   \n",
       "1564  Joel Barish, heartbroken that his girlfriend u...      108   \n",
       "1689  When ruthless oil prospector, Daniel Plainview...      158   \n",
       "\n",
       "                                        genres  \\\n",
       "28                      Drama|Thriller|History   \n",
       "124   Adventure|Family|Animation|Action|Comedy   \n",
       "155                              Drama|Romance   \n",
       "177                              Romance|Drama   \n",
       "283      Science Fiction|Drama|Romance|Fantasy   \n",
       "316                       Drama|Comedy|Romance   \n",
       "497                   Adventure|Fantasy|Action   \n",
       "864                   Adventure|Fantasy|Action   \n",
       "1189             Romance|Science Fiction|Drama   \n",
       "1206                      Drama|Thriller|Crime   \n",
       "1214                             Drama|History   \n",
       "1445                    Drama|Mystery|Thriller   \n",
       "1564             Science Fiction|Drama|Romance   \n",
       "1689                                     Drama   \n",
       "\n",
       "                                   production_companies release_date  \\\n",
       "28    Participant Media|Open Road Films|Anonymous Co...    11/6/2015   \n",
       "124   Walt Disney Pictures|Walt Disney Animation Stu...   10/24/2014   \n",
       "155                                 Working Title Films   11/26/2014   \n",
       "177   Fox 2000 Pictures|Temple Hill Entertainment|TS...    5/16/2014   \n",
       "283            Pan EuropÃ©enne Production|Virtual Films    9/11/2009   \n",
       "316                      Vidhu Vinod Chopra Productions   12/23/2009   \n",
       "497   WingNut Films|New Line Cinema|The Saul Zaentz ...   12/18/2001   \n",
       "864   WingNut Films|New Line Cinema|The Saul Zaentz ...   12/18/2002   \n",
       "1189                                 Annapurna Pictures   12/18/2013   \n",
       "1206  Alcon Entertainment|Madhouse Entertainment|8:3...    9/18/2013   \n",
       "1214  Universal Studios|Universal Pictures|Voltage P...     9/7/2013   \n",
       "1445                        Touchstone Pictures|Syncopy   10/19/2006   \n",
       "1564  Anonymous Content|This Is That Productions|Foc...    3/19/2004   \n",
       "1689  Miramax Films|Ghoulardi Film Company|Paramount...   12/28/2007   \n",
       "\n",
       "      vote_count  vote_average  release_year  \n",
       "28          1559           7.8          2015  \n",
       "124         4185           7.8          2014  \n",
       "155         1960           7.8          2014  \n",
       "177         2389           7.8          2014  \n",
       "283          827           7.8          2009  \n",
       "316          662           7.8          2009  \n",
       "497         6079           7.8          2001  \n",
       "864         5114           7.8          2002  \n",
       "1189        2422           7.8          2013  \n",
       "1206        1826           7.8          2013  \n",
       "1214        1831           7.8          2013  \n",
       "1445        2519           7.8          2006  \n",
       "1564        2012           7.8          2004  \n",
       "1689         830           7.8          2007  "
      ]
     },
     "execution_count": 83,
     "metadata": {},
     "output_type": "execute_result"
    }
   ],
   "source": [
    "#34\n",
    "import pandas as pd\n",
    "data = pd.read_csv('data.csv')\n",
    "rating = data.vote_average.quantile(0.99)\n",
    "data2 = data[data.vote_average == rating]\n",
    "data2"
   ]
  },
  {
   "cell_type": "code",
   "execution_count": 23,
   "metadata": {},
   "outputs": [
    {
     "data": {
      "text/plain": [
       "[(('Daniel Radcliffe', 'Rupert Grint'), 8),\n",
       " (('Daniel Radcliffe', 'Emma Watson'), 8),\n",
       " (('Rupert Grint', 'Emma Watson'), 7)]"
      ]
     },
     "execution_count": 23,
     "metadata": {},
     "output_type": "execute_result"
    }
   ],
   "source": [
    "#35\n",
    "import pandas as pd\n",
    "data = pd.read_csv('data.csv')\n",
    "import collections\n",
    "from itertools import combinations\n",
    "data['cast']=data.cast.str.split('|')\n",
    "data['new_cast']=data.cast.apply(lambda r: list(combinations(r, 2)))\n",
    "list_of_actors = []\n",
    "for i in data['new_cast']:\n",
    "    if i not in list_of_actors:\n",
    "        list_of_actors.append(i)\n",
    "c = collections.Counter()\n",
    "for i in list_of_actors:\n",
    "    for couple in i:\n",
    "        c[couple] += 1\n",
    "c.most_common(3)"
   ]
  },
  {
   "cell_type": "code",
   "execution_count": 199,
   "metadata": {},
   "outputs": [
    {
     "data": {
      "text/plain": [
       "[('Ridley Scott', 12),\n",
       " ('Steven Spielberg', 10),\n",
       " ('Clint Eastwood', 10),\n",
       " ('Steven Soderbergh', 10),\n",
       " ('Shawn Levy', 9)]"
      ]
     },
     "execution_count": 199,
     "metadata": {},
     "output_type": "execute_result"
    }
   ],
   "source": [
    "#36\n",
    "#У какого из режиссеров самый высокий процент фильмов со сборами выше бюджета?\n",
    "df = pd.read_csv('data.csv')\n",
    "df['pribil'] = df.revenue - df.budget\n",
    "df = df[df['pribil'] > 0]\n",
    "df = df.director.str.split('|').sum()\n",
    "import collections\n",
    "c = collections.Counter()\n",
    "for i in df:\n",
    "    c[i] += 1\n",
    "c.most_common(5)"
   ]
  }
 ],
 "metadata": {
  "kernelspec": {
   "display_name": "Python 3",
   "language": "python",
   "name": "python3"
  },
  "language_info": {
   "codemirror_mode": {
    "name": "ipython",
    "version": 3
   },
   "file_extension": ".py",
   "mimetype": "text/x-python",
   "name": "python",
   "nbconvert_exporter": "python",
   "pygments_lexer": "ipython3",
   "version": "3.7.4"
  }
 },
 "nbformat": 4,
 "nbformat_minor": 2
}
